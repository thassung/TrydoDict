{
  "cells": [
    {
      "cell_type": "markdown",
      "metadata": {
        "id": "KR5FKIgPjXq5"
      },
      "source": [
        "# Machine Translation + Transformer\n",
        "\n",
        "<img src = \"../figures/transformer1.png\" >"
      ]
    },
    {
      "cell_type": "code",
      "execution_count": 8,
      "metadata": {
        "colab": {
          "base_uri": "https://localhost:8080/"
        },
        "id": "9ZEwN9zrjXq6",
        "outputId": "12e57ea9-8a59-40cb-9301-5ae057820fe6"
      },
      "outputs": [
        {
          "name": "stdout",
          "output_type": "stream",
          "text": [
            "cuda\n"
          ]
        }
      ],
      "source": [
        "import torch, torchdata, torchtext\n",
        "import torch.nn as nn\n",
        "import torch.nn.functional as F\n",
        "\n",
        "import random, math, time\n",
        "\n",
        "device = torch.device('cuda' if torch.cuda.is_available() else 'cpu')\n",
        "# device = torch.device('cpu') # for debugging\n",
        "print(device)\n",
        "\n",
        "#make our work comparable if restarted the kernel\n",
        "SEED = 1234\n",
        "torch.manual_seed(SEED)\n",
        "torch.backends.cudnn.deterministic = True"
      ]
    },
    {
      "cell_type": "code",
      "execution_count": 9,
      "metadata": {
        "colab": {
          "base_uri": "https://localhost:8080/",
          "height": 35
        },
        "id": "pmVYXT19jXq7",
        "outputId": "40ca5e80-5ad9-4978-ac73-225d84a506d9"
      },
      "outputs": [
        {
          "data": {
            "text/plain": [
              "'NVIDIA GeForce GTX 1060'"
            ]
          },
          "execution_count": 9,
          "metadata": {},
          "output_type": "execute_result"
        }
      ],
      "source": [
        "torch.cuda.get_device_name(0)"
      ]
    },
    {
      "cell_type": "code",
      "execution_count": 10,
      "metadata": {
        "colab": {
          "base_uri": "https://localhost:8080/",
          "height": 35
        },
        "id": "Mg4qMEtijXq7",
        "outputId": "b08701ec-887f-412e-9940-ffeee294656f"
      },
      "outputs": [
        {
          "data": {
            "text/plain": [
              "'2.1.0+cu118'"
            ]
          },
          "execution_count": 10,
          "metadata": {},
          "output_type": "execute_result"
        }
      ],
      "source": [
        "torch.__version__"
      ]
    },
    {
      "cell_type": "code",
      "execution_count": 11,
      "metadata": {
        "colab": {
          "base_uri": "https://localhost:8080/",
          "height": 35
        },
        "id": "I6opYbNVjXq8",
        "outputId": "54c9cec8-2fad-4acd-cb71-398c277d8acc"
      },
      "outputs": [
        {
          "data": {
            "text/plain": [
              "'0.16.2+cpu'"
            ]
          },
          "execution_count": 11,
          "metadata": {},
          "output_type": "execute_result"
        }
      ],
      "source": [
        "torchtext.__version__"
      ]
    },
    {
      "cell_type": "markdown",
      "metadata": {
        "id": "qh-tqdxfjXq8",
        "jp-MarkdownHeadingCollapsed": true,
        "tags": []
      },
      "source": [
        "## 1. ETL: Loading the dataset\n",
        "\n",
        "The dataset is a large English-Thai Parallel Corpus from [Hugging Face](https://huggingface.co/datasets/scb_mt_enth_2020)."
      ]
    },
    {
      "cell_type": "code",
      "execution_count": 12,
      "metadata": {
        "colab": {
          "base_uri": "https://localhost:8080/"
        },
        "id": "5JRjQCMvkR2M",
        "outputId": "63c3357a-e2ff-4ce1-bd39-fc130759bcf7"
      },
      "outputs": [
        {
          "name": "stdout",
          "output_type": "stream",
          "text": [
            "Requirement already satisfied: datasets in c:\\users\\sung2_8l7o06c\\appdata\\local\\programs\\python\\python311\\lib\\site-packages (2.16.1)\n",
            "Requirement already satisfied: filelock in c:\\users\\sung2_8l7o06c\\appdata\\local\\programs\\python\\python311\\lib\\site-packages (from datasets) (3.13.1)\n",
            "Requirement already satisfied: numpy>=1.17 in c:\\users\\sung2_8l7o06c\\appdata\\local\\programs\\python\\python311\\lib\\site-packages (from datasets) (1.26.0)\n",
            "Requirement already satisfied: pyarrow>=8.0.0 in c:\\users\\sung2_8l7o06c\\appdata\\local\\programs\\python\\python311\\lib\\site-packages (from datasets) (12.0.1)\n",
            "Requirement already satisfied: pyarrow-hotfix in c:\\users\\sung2_8l7o06c\\appdata\\local\\programs\\python\\python311\\lib\\site-packages (from datasets) (0.6)\n",
            "Requirement already satisfied: dill<0.3.8,>=0.3.0 in c:\\users\\sung2_8l7o06c\\appdata\\local\\programs\\python\\python311\\lib\\site-packages (from datasets) (0.3.7)\n",
            "Requirement already satisfied: pandas in c:\\users\\sung2_8l7o06c\\appdata\\local\\programs\\python\\python311\\lib\\site-packages (from datasets) (2.1.1)\n",
            "Requirement already satisfied: requests>=2.19.0 in c:\\users\\sung2_8l7o06c\\appdata\\local\\programs\\python\\python311\\lib\\site-packages (from datasets) (2.31.0)\n",
            "Requirement already satisfied: tqdm>=4.62.1 in c:\\users\\sung2_8l7o06c\\appdata\\local\\programs\\python\\python311\\lib\\site-packages (from datasets) (4.66.1)\n",
            "Requirement already satisfied: xxhash in c:\\users\\sung2_8l7o06c\\appdata\\local\\programs\\python\\python311\\lib\\site-packages (from datasets) (3.4.1)\n",
            "Requirement already satisfied: multiprocess in c:\\users\\sung2_8l7o06c\\appdata\\local\\programs\\python\\python311\\lib\\site-packages (from datasets) (0.70.15)\n",
            "Requirement already satisfied: fsspec<=2023.10.0,>=2023.1.0 in c:\\users\\sung2_8l7o06c\\appdata\\local\\programs\\python\\python311\\lib\\site-packages (from fsspec[http]<=2023.10.0,>=2023.1.0->datasets) (2023.10.0)\n",
            "Requirement already satisfied: aiohttp in c:\\users\\sung2_8l7o06c\\appdata\\local\\programs\\python\\python311\\lib\\site-packages (from datasets) (3.9.3)\n",
            "Requirement already satisfied: huggingface-hub>=0.19.4 in c:\\users\\sung2_8l7o06c\\appdata\\local\\programs\\python\\python311\\lib\\site-packages (from datasets) (0.20.3)\n",
            "Requirement already satisfied: packaging in c:\\users\\sung2_8l7o06c\\appdata\\local\\programs\\python\\python311\\lib\\site-packages (from datasets) (23.1)\n",
            "Requirement already satisfied: pyyaml>=5.1 in c:\\users\\sung2_8l7o06c\\appdata\\local\\programs\\python\\python311\\lib\\site-packages (from datasets) (6.0.1)\n",
            "Requirement already satisfied: aiosignal>=1.1.2 in c:\\users\\sung2_8l7o06c\\appdata\\local\\programs\\python\\python311\\lib\\site-packages (from aiohttp->datasets) (1.3.1)\n",
            "Requirement already satisfied: attrs>=17.3.0 in c:\\users\\sung2_8l7o06c\\appdata\\local\\programs\\python\\python311\\lib\\site-packages (from aiohttp->datasets) (23.1.0)\n",
            "Requirement already satisfied: frozenlist>=1.1.1 in c:\\users\\sung2_8l7o06c\\appdata\\local\\programs\\python\\python311\\lib\\site-packages (from aiohttp->datasets) (1.4.1)\n",
            "Requirement already satisfied: multidict<7.0,>=4.5 in c:\\users\\sung2_8l7o06c\\appdata\\local\\programs\\python\\python311\\lib\\site-packages (from aiohttp->datasets) (6.0.4)\n",
            "Requirement already satisfied: yarl<2.0,>=1.0 in c:\\users\\sung2_8l7o06c\\appdata\\local\\programs\\python\\python311\\lib\\site-packages (from aiohttp->datasets) (1.9.4)\n",
            "Requirement already satisfied: typing-extensions>=3.7.4.3 in c:\\users\\sung2_8l7o06c\\appdata\\local\\programs\\python\\python311\\lib\\site-packages (from huggingface-hub>=0.19.4->datasets) (4.9.0)\n",
            "Requirement already satisfied: charset-normalizer<4,>=2 in c:\\users\\sung2_8l7o06c\\appdata\\local\\programs\\python\\python311\\lib\\site-packages (from requests>=2.19.0->datasets) (3.2.0)\n",
            "Requirement already satisfied: idna<4,>=2.5 in c:\\users\\sung2_8l7o06c\\appdata\\local\\programs\\python\\python311\\lib\\site-packages (from requests>=2.19.0->datasets) (3.4)\n",
            "Requirement already satisfied: urllib3<3,>=1.21.1 in c:\\users\\sung2_8l7o06c\\appdata\\local\\programs\\python\\python311\\lib\\site-packages (from requests>=2.19.0->datasets) (1.26.13)\n",
            "Requirement already satisfied: certifi>=2017.4.17 in c:\\users\\sung2_8l7o06c\\appdata\\local\\programs\\python\\python311\\lib\\site-packages (from requests>=2.19.0->datasets) (2023.7.22)\n",
            "Requirement already satisfied: colorama in c:\\users\\sung2_8l7o06c\\appdata\\local\\programs\\python\\python311\\lib\\site-packages (from tqdm>=4.62.1->datasets) (0.4.6)\n",
            "Requirement already satisfied: python-dateutil>=2.8.2 in c:\\users\\sung2_8l7o06c\\appdata\\local\\programs\\python\\python311\\lib\\site-packages (from pandas->datasets) (2.8.2)\n",
            "Requirement already satisfied: pytz>=2020.1 in c:\\users\\sung2_8l7o06c\\appdata\\local\\programs\\python\\python311\\lib\\site-packages (from pandas->datasets) (2023.3)\n",
            "Requirement already satisfied: tzdata>=2022.1 in c:\\users\\sung2_8l7o06c\\appdata\\local\\programs\\python\\python311\\lib\\site-packages (from pandas->datasets) (2023.3)\n",
            "Requirement already satisfied: six>=1.5 in c:\\users\\sung2_8l7o06c\\appdata\\local\\programs\\python\\python311\\lib\\site-packages (from python-dateutil>=2.8.2->pandas->datasets) (1.16.0)\n"
          ]
        }
      ],
      "source": [
        "!pip install datasets"
      ]
    },
    {
      "cell_type": "code",
      "execution_count": 13,
      "metadata": {
        "id": "-q7r8VSijXq8"
      },
      "outputs": [],
      "source": [
        "import datasets"
      ]
    },
    {
      "cell_type": "code",
      "execution_count": 14,
      "metadata": {
        "colab": {
          "base_uri": "https://localhost:8080/",
          "height": 333,
          "referenced_widgets": [
            "d6e295ac46d3408dac2d9a65626005ac",
            "1747eb9897a542cb9b13f53ee19aa599",
            "27351d27c5464952aa4bc50ff6c6b236",
            "f57c9fe6d045484990be179a5f90dec9",
            "5f1bc5e74d904c8c87f7d21204a610f5",
            "8e32543cd6d24b4d8ddd977cf3c4e857",
            "7f03706acb1747d39e3b524bf3d58f72",
            "4966b5dd172745928b431484a90039f0",
            "9e7551e95e714afea3756c82bced1ec5",
            "48c3426c51954815bc126efe73f22803",
            "22028f632c9e43aea90c09a32c8e838f",
            "75563b912819495a9884a3e9c8b64b0c",
            "bac1986472cd458181caff307098fe9c",
            "0701d124e77843cea37286efefa84f16",
            "f75460a5c97d468db9dd4afb96320e87",
            "f9a9eba044af4334bcf8a37fb4ff96eb",
            "79015bfdc12c44d38fca2b30b49ae0ec",
            "4e604879c4494578a06e49d0f12a068f",
            "8ad3c5091fcd4656ac63005a6b686e34",
            "7399bf6af65b45e5832b054923de2f2a",
            "a04961ea6f804c699a9e993d9597a341",
            "76d3028fa5c94dbc98f3a39fd7390fbc",
            "fa688a80d3e74d4298ad73c21d8c246e",
            "be05027b1bdd4688a6b3826949fc7d79",
            "683118f139424d1f88b57a9461024c18",
            "15bf02f17fd14e35a90349c1c86b6bf0",
            "727a87dd3ddd4e9c8816f7de95918395",
            "80dca9ccae674a01828ac0de2afe897f",
            "f41806e6509241e7936dc57abcfec6a8",
            "61596f17c52343a5b9c0e73f7b570905",
            "537a2b1bf3ac4f3cbf3c5e5bbd9fc625",
            "cb28d09cbee645c7b0176a406159e783",
            "d4ccc86679e7466b82fbad2cb5f0d9ea",
            "586ac323486c495d80e66757b8bac42a",
            "da1223c71f87408eb10ede75090fad9a",
            "3ea76442a76544f3b65a2e998cedf0b0",
            "f7fa22a8d98c4220b68bafd5f6c7ec55",
            "b497c890f7f447248e6ac516f14f107c",
            "7457ee6cd23343a0acb8fb0c5cb8a088",
            "504d75489a2a43c081f89de850c43a95",
            "6fbd27e5e31747678d768540d442f6c2",
            "b9e9c3c3fb014e2fa1e8cadda2a59a86",
            "8bb63d69e05e4e959d7f0b2a7d70ea38",
            "06d6df1f9ef7484a8c06ed1bcf40d374",
            "e938aa007e7b4d7c9ae124f5c64531e2",
            "0f15d01299ca43feaa108ebd35c676cc",
            "33d3538cb5d647f3ba98bc42efa623a0",
            "824b53b78f5e4c688a09d13fee401b4e",
            "587ba1bc38db4228b92c4cb0839416f9",
            "f6319744c747403eb292b52a1ff043ba",
            "1978ea5725f142cc8fb5b33c71e7e92d",
            "61577684fce04ebe90d4f232eac1f52b",
            "89e98b24318943048039a3d19118520a",
            "49b43713b1614cdea62dc2aa71f28c8a",
            "4528e4f2f5014383a2a75d61e3c21881",
            "83f00d34e11f42979b403b14142375a5",
            "0b5abeb464614a1eba53b4b5fc142340",
            "091e765329b04877bf3cd5265ca95886",
            "8e9948d5fc7e40ce9497e270cc448d78",
            "03821c238d394a278151143571ac1115",
            "5a4d981793ae426b8c00f7eede0806e8",
            "c06b0b9f3f114b5f8582f88dc3139627",
            "3b9d525c2714415db6d373c705a4409c",
            "60cf2ce67a444d709546b1ac213a6da0",
            "1963dc11c5474396b08c577e8868e524",
            "3f3c679aebd64b199471bc2b4a120e59"
          ]
        },
        "id": "0DsRpwG6jXq8",
        "outputId": "016bd44f-2eed-4178-cceb-f7ccf9d41ed2"
      },
      "outputs": [],
      "source": [
        "dataset = datasets.load_dataset('scb_mt_enth_2020', 'enth')"
      ]
    },
    {
      "cell_type": "code",
      "execution_count": 15,
      "metadata": {
        "colab": {
          "base_uri": "https://localhost:8080/"
        },
        "id": "6Wzp6Fa_jXq8",
        "outputId": "934c28a8-2cb6-4eb4-ca7a-24da41cc6fc8"
      },
      "outputs": [
        {
          "data": {
            "text/plain": [
              "DatasetDict({\n",
              "    train: Dataset({\n",
              "        features: ['translation', 'subdataset'],\n",
              "        num_rows: 801402\n",
              "    })\n",
              "    validation: Dataset({\n",
              "        features: ['translation', 'subdataset'],\n",
              "        num_rows: 100173\n",
              "    })\n",
              "    test: Dataset({\n",
              "        features: ['translation', 'subdataset'],\n",
              "        num_rows: 100177\n",
              "    })\n",
              "})"
            ]
          },
          "execution_count": 15,
          "metadata": {},
          "output_type": "execute_result"
        }
      ],
      "source": [
        "#so this is a datapipe object; very similar to pytorch dataset version 2 which is better\n",
        "dataset"
      ]
    },
    {
      "cell_type": "markdown",
      "metadata": {
        "id": "nWpsOEGJjXq8",
        "tags": []
      },
      "source": [
        "## 2. EDA - simple investigation"
      ]
    },
    {
      "cell_type": "code",
      "execution_count": 16,
      "metadata": {
        "colab": {
          "base_uri": "https://localhost:8080/"
        },
        "id": "BG4BTQ34jXq9",
        "outputId": "cfc8b2ea-fd3a-4404-998a-0619b1ba6f60"
      },
      "outputs": [
        {
          "name": "stdout",
          "output_type": "stream",
          "text": [
            "FAR LEFT: Indonesian National Police Chief Tito Karnavian, from left, Philippine National Police Chief Ronald Dela Rosa and Royal Malaysian Police Inspector General Khalid Abu Bakar link arms before the Trilateral Security Meeting in Pasay city, southeast of Manila, Philippines, in June 2017. [THE ASSOCIATED PRESS]\n",
            "(ซ้ายสุด) นายติโต คาร์นาเวียน ผู้บัญชาการตํารวจแห่งชาติอินโดนีเซีย (จากซ้าย) นายโรนัลด์ เดลา โรซา ผู้บัญชาการตํารวจแห่งชาติฟิลิปปินส์ และนายคาลิด อาบู บาการ์ ผู้บัญชาการตํารวจแห่งชาติมาเลเซีย ไขว้แขนกันก่อนเริ่มการประชุมความมั่นคงไตรภาคีในเมืองปาเซย์ ซึ่งอยู่ทางตะวันออกเฉียงใต้ของกรุงมะนิลา ประเทศฟิลิปปินส์ ในเดือนมิถุนายน พ.ศ. 2560 ดิแอสโซซิเอทเต็ด เพรส\n"
          ]
        }
      ],
      "source": [
        "#let's take a look at one example of train\n",
        "sample = dataset['train'][0]['translation']\n",
        "print(sample['en']+'\\n'+sample['th'])"
      ]
    },
    {
      "cell_type": "code",
      "execution_count": 17,
      "metadata": {
        "colab": {
          "base_uri": "https://localhost:8080/"
        },
        "id": "QpVc9hGajXq9",
        "outputId": "0972d336-da22-4360-f115-05e3a9352fab"
      },
      "outputs": [
        {
          "name": "stdout",
          "output_type": "stream",
          "text": [
            "Train: 801402 rows\n",
            "Validation: 100173 rows\n",
            "Test: 100177 rows\n"
          ]
        }
      ],
      "source": [
        "for a, b in list(dataset.items()):\n",
        "    print(f'{a.capitalize()}: {len(b)} rows')"
      ]
    },
    {
      "cell_type": "markdown",
      "metadata": {
        "id": "PQAUTCmsjXq9"
      },
      "source": [
        "To spare my personal laptop, a sliver of dataset is used to trained locally.\n",
        "\n",
        "You can change the number of the data as you see fit."
      ]
    },
    {
      "cell_type": "code",
      "execution_count": 18,
      "metadata": {
        "id": "ay_aCEuRjXq9"
      },
      "outputs": [],
      "source": [
        "train = dataset['train'][:10000]\n",
        "val = dataset['validation'][:3000]\n",
        "test = dataset['test'][:3000]"
      ]
    },
    {
      "cell_type": "markdown",
      "metadata": {
        "id": "LYEARhb5jXq9",
        "jp-MarkdownHeadingCollapsed": true,
        "tags": []
      },
      "source": [
        "## 3. Preprocessing\n",
        "\n",
        "### Tokenizing\n",
        "\n",
        "**Note**: the models must first be downloaded using the following on the command line:\n",
        "```\n",
        "python3 -m spacy download en_core_web_sm\n",
        "python3 -m spacy download de_core_news_sm\n",
        "```\n",
        "\n",
        "First, since we have two languages, let's create some constants to represent that.  Also, let's create two dicts: one for holding our tokenizers and one for holding all the vocabs with assigned numbers for each unique word"
      ]
    },
    {
      "cell_type": "code",
      "execution_count": 19,
      "metadata": {
        "id": "q9wn422MjXq-"
      },
      "outputs": [],
      "source": [
        "# Place-holders\n",
        "token_transform = {}\n",
        "vocab_transform = {}"
      ]
    },
    {
      "cell_type": "code",
      "execution_count": 20,
      "metadata": {
        "colab": {
          "base_uri": "https://localhost:8080/"
        },
        "id": "qjSFq3h5koOL",
        "outputId": "288d93d9-8c56-47fe-e9c3-bedc3be7b304"
      },
      "outputs": [
        {
          "name": "stdout",
          "output_type": "stream",
          "text": [
            "Requirement already satisfied: pythainlp in c:\\users\\sung2_8l7o06c\\appdata\\local\\programs\\python\\python311\\lib\\site-packages (4.0.2)\n",
            "Requirement already satisfied: requests>=2.22.0 in c:\\users\\sung2_8l7o06c\\appdata\\local\\programs\\python\\python311\\lib\\site-packages (from pythainlp) (2.31.0)\n",
            "Requirement already satisfied: charset-normalizer<4,>=2 in c:\\users\\sung2_8l7o06c\\appdata\\local\\programs\\python\\python311\\lib\\site-packages (from requests>=2.22.0->pythainlp) (3.2.0)\n",
            "Requirement already satisfied: idna<4,>=2.5 in c:\\users\\sung2_8l7o06c\\appdata\\local\\programs\\python\\python311\\lib\\site-packages (from requests>=2.22.0->pythainlp) (3.4)\n",
            "Requirement already satisfied: urllib3<3,>=1.21.1 in c:\\users\\sung2_8l7o06c\\appdata\\local\\programs\\python\\python311\\lib\\site-packages (from requests>=2.22.0->pythainlp) (1.26.13)\n",
            "Requirement already satisfied: certifi>=2017.4.17 in c:\\users\\sung2_8l7o06c\\appdata\\local\\programs\\python\\python311\\lib\\site-packages (from requests>=2.22.0->pythainlp) (2023.7.22)\n"
          ]
        }
      ],
      "source": [
        "!pip install pythainlp"
      ]
    },
    {
      "cell_type": "code",
      "execution_count": 21,
      "metadata": {
        "id": "uBZJ4aH1jXq-"
      },
      "outputs": [],
      "source": [
        "from torchtext.data.utils import get_tokenizer\n",
        "from pythainlp import word_tokenize\n",
        "token_transform['en'] = get_tokenizer('spacy', language='en_core_web_sm')\n",
        "token_transform['th'] = word_tokenize"
      ]
    },
    {
      "cell_type": "code",
      "execution_count": 22,
      "metadata": {
        "colab": {
          "base_uri": "https://localhost:8080/"
        },
        "id": "rxuSuIu2jXq-",
        "outputId": "9d7caa33-7362-470f-ae7e-b2528622c64c"
      },
      "outputs": [
        {
          "name": "stdout",
          "output_type": "stream",
          "text": [
            "Sentence:  FAR LEFT: Indonesian National Police Chief Tito Karnavian, from left, Philippine National Police Chief Ronald Dela Rosa and Royal Malaysian Police Inspector General Khalid Abu Bakar link arms before the Trilateral Security Meeting in Pasay city, southeast of Manila, Philippines, in June 2017. [THE ASSOCIATED PRESS]\n",
            "Tokenization:  ['FAR', 'LEFT', ':', 'Indonesian', 'National', 'Police', 'Chief', 'Tito', 'Karnavian', ',', 'from', 'left', ',', 'Philippine', 'National', 'Police', 'Chief', 'Ronald', 'Dela', 'Rosa', 'and', 'Royal', 'Malaysian', 'Police', 'Inspector', 'General', 'Khalid', 'Abu', 'Bakar', 'link', 'arms', 'before', 'the', 'Trilateral', 'Security', 'Meeting', 'in', 'Pasay', 'city', ',', 'southeast', 'of', 'Manila', ',', 'Philippines', ',', 'in', 'June', '2017', '.', '[', 'THE', 'ASSOCIATED', 'PRESS', ']']\n"
          ]
        }
      ],
      "source": [
        "print(\"Sentence: \", sample['en'])\n",
        "print(\"Tokenization: \", token_transform['en'](sample['en']))"
      ]
    },
    {
      "cell_type": "code",
      "execution_count": 23,
      "metadata": {
        "colab": {
          "base_uri": "https://localhost:8080/"
        },
        "id": "7vDE_WCkjXq-",
        "outputId": "d0bfcfee-efa0-4c06-efd1-6563b0c2ec81"
      },
      "outputs": [
        {
          "name": "stdout",
          "output_type": "stream",
          "text": [
            "Sentence:  (ซ้ายสุด) นายติโต คาร์นาเวียน ผู้บัญชาการตํารวจแห่งชาติอินโดนีเซีย (จากซ้าย) นายโรนัลด์ เดลา โรซา ผู้บัญชาการตํารวจแห่งชาติฟิลิปปินส์ และนายคาลิด อาบู บาการ์ ผู้บัญชาการตํารวจแห่งชาติมาเลเซีย ไขว้แขนกันก่อนเริ่มการประชุมความมั่นคงไตรภาคีในเมืองปาเซย์ ซึ่งอยู่ทางตะวันออกเฉียงใต้ของกรุงมะนิลา ประเทศฟิลิปปินส์ ในเดือนมิถุนายน พ.ศ. 2560 ดิแอสโซซิเอทเต็ด เพรส\n",
            "Tokenization:  ['(', 'ซ้าย', 'สุด', ')', ' ', 'นา', 'ยติ', 'โต', ' ', 'คาร์', 'นา', 'เวียน', ' ', 'ผู้บัญชาการ', 'ตํารวจ', 'แห่งชาติ', 'อินโดนีเซีย', ' ', '(', 'จาก', 'ซ้าย', ')', ' ', 'นาย', 'โร', 'นัลด์', ' ', 'เด', 'ลา', ' ', 'โร', 'ซา', ' ', 'ผู้บัญชาการ', 'ตํารวจ', 'แห่งชาติ', 'ฟิลิปปินส์', ' ', 'และ', 'นาย', 'คา', 'ลิด', ' ', 'อา', 'บู', ' ', 'บา', 'การ์', ' ', 'ผู้บัญชาการ', 'ตํารวจ', 'แห่งชาติ', 'มาเลเซีย', ' ', 'ไขว้', 'แขน', 'กัน', 'ก่อน', 'เริ่ม', 'การประชุม', 'ความมั่นคง', 'ไตรภาคี', 'ใน', 'เมือง', 'ปา', 'เซย์', ' ', 'ซึ่ง', 'อยู่', 'ทาง', 'ตะวันออกเฉียงใต้', 'ของ', 'กรุง', 'มะนิลา', ' ', 'ประเทศ', 'ฟิลิปปินส์', ' ', 'ใน', 'เดือน', 'มิถุนายน', ' ', 'พ.ศ.', ' ', '2560', ' ', 'ดิ', 'แอ', 'ส', 'โซ', 'ซิ', 'เอ', 'ทเต็ด', ' ', 'เพรส']\n"
          ]
        }
      ],
      "source": [
        "print(\"Sentence: \", sample['th'])\n",
        "print(\"Tokenization: \", token_transform['th'](sample['th']))"
      ]
    },
    {
      "cell_type": "markdown",
      "metadata": {
        "id": "ZaSspfGXjXq-"
      },
      "source": [
        "A function to tokenize our input."
      ]
    },
    {
      "cell_type": "code",
      "execution_count": 24,
      "metadata": {
        "id": "Txa1e5ZejXq-"
      },
      "outputs": [],
      "source": [
        "# helper function to yield list of tokens\n",
        "# here data can be `train` or `val` or `test`\n",
        "def yield_tokens(data, language):\n",
        "    valid_lang = ('en', 'th')\n",
        "    if language not in valid_lang:\n",
        "        raise ValueError(\"The input language must be 'en' for English or 'th' for Thai.\")\n",
        "    for data_sample in data['translation']:\n",
        "        yield token_transform[language](data_sample[language])"
      ]
    },
    {
      "cell_type": "markdown",
      "metadata": {
        "id": "-2wnJOo7jXq-"
      },
      "source": [
        "Before we tokenize, let's define some special symbols so our neural network understand the embeddings of these symbols, namely the unknown, the padding, the start of sentence, and end of sentence."
      ]
    },
    {
      "cell_type": "code",
      "execution_count": 25,
      "metadata": {
        "id": "1eOqgwHBjXq_"
      },
      "outputs": [],
      "source": [
        "# Define special symbols and indices\n",
        "UNK_IDX, PAD_IDX, SOS_IDX, EOS_IDX = 0, 1, 2, 3\n",
        "# Make sure the tokens are in order of their indices to properly insert them in vocab\n",
        "special_symbols = ['<unk>', '<pad>', '<sos>', '<eos>']"
      ]
    },
    {
      "cell_type": "markdown",
      "metadata": {
        "id": "H6bdn6BpjXq_",
        "tags": []
      },
      "source": [
        "### Text to integers (Numericalization)\n",
        "\n",
        "Next we gonna create function (torchtext called vocabs) that turn these tokens into integers.  Here we use built in factory function <code>build_vocab_from_iterator</code> which accepts iterator that yield list or iterator of tokens."
      ]
    },
    {
      "cell_type": "code",
      "execution_count": 26,
      "metadata": {
        "id": "HBJRVi3OjXq_"
      },
      "outputs": [],
      "source": [
        "from torchtext.vocab import build_vocab_from_iterator\n",
        "\n",
        "for ln in ['en', 'th']:\n",
        "    # Create torchtext's Vocab object\n",
        "    vocab_transform[ln] = build_vocab_from_iterator(yield_tokens(train, ln),\n",
        "                                                    min_freq=2,   #if not, everything will be treated as UNK\n",
        "                                                    specials=special_symbols,\n",
        "                                                    special_first=True) #indicates whether to insert symbols at the beginning or at the end\n",
        "# Set UNK_IDX as the default index. This index is returned when the token is not found.\n",
        "# If not set, it throws RuntimeError when the queried token is not found in the Vocabulary.\n",
        "for ln in ['en', 'th']:\n",
        "    vocab_transform[ln].set_default_index(UNK_IDX)"
      ]
    },
    {
      "cell_type": "code",
      "execution_count": 27,
      "metadata": {
        "colab": {
          "base_uri": "https://localhost:8080/"
        },
        "id": "nF2R126TjXq_",
        "outputId": "93e6b95c-4336-4544-a232-c2bc38cddc2b"
      },
      "outputs": [
        {
          "data": {
            "text/plain": [
              "[878, 20, 12, 0, 12]"
            ]
          },
          "execution_count": 27,
          "metadata": {},
          "output_type": "execute_result"
        }
      ],
      "source": [
        "#see some example\n",
        "vocab_transform['en'](['here', 'is', 'a', 'unknownword', 'a'])"
      ]
    },
    {
      "cell_type": "code",
      "execution_count": 28,
      "metadata": {
        "colab": {
          "base_uri": "https://localhost:8080/",
          "height": 35
        },
        "id": "Hfj0ZTiqjXq_",
        "outputId": "5af80b8d-09b6-453b-9e42-54c880b3a50c"
      },
      "outputs": [
        {
          "data": {
            "text/plain": [
              "'here'"
            ]
          },
          "execution_count": 28,
          "metadata": {},
          "output_type": "execute_result"
        }
      ],
      "source": [
        "#we can reverse it....\n",
        "mapping = vocab_transform['en'].get_itos()\n",
        "\n",
        "#print 1816, for example\n",
        "mapping[878]"
      ]
    },
    {
      "cell_type": "code",
      "execution_count": 29,
      "metadata": {
        "colab": {
          "base_uri": "https://localhost:8080/",
          "height": 35
        },
        "id": "vucgl3SOjXq_",
        "outputId": "9292b1de-37ff-4334-fefb-a82226a603a1"
      },
      "outputs": [
        {
          "data": {
            "text/plain": [
              "'<unk>'"
            ]
          },
          "execution_count": 29,
          "metadata": {},
          "output_type": "execute_result"
        }
      ],
      "source": [
        "#let's try unknown vocab\n",
        "mapping[0]\n",
        "#they will all map to <unk> which has 0 as integer"
      ]
    },
    {
      "cell_type": "code",
      "execution_count": 30,
      "metadata": {
        "colab": {
          "base_uri": "https://localhost:8080/"
        },
        "id": "3NkDfpuojXq_",
        "outputId": "8f272a5f-a17a-45dd-d0be-619f8c714d45"
      },
      "outputs": [
        {
          "data": {
            "text/plain": [
              "('<pad>', '<sos>', '<eos>')"
            ]
          },
          "execution_count": 30,
          "metadata": {},
          "output_type": "execute_result"
        }
      ],
      "source": [
        "#let's try special symbols\n",
        "mapping[1], mapping[2], mapping[3]"
      ]
    },
    {
      "cell_type": "code",
      "execution_count": 31,
      "metadata": {
        "colab": {
          "base_uri": "https://localhost:8080/"
        },
        "id": "w946FrafjXrA",
        "outputId": "47ba7217-75b9-4e50-8bc9-5340d4e53429"
      },
      "outputs": [
        {
          "data": {
            "text/plain": [
              "13567"
            ]
          },
          "execution_count": 31,
          "metadata": {},
          "output_type": "execute_result"
        }
      ],
      "source": [
        "#check unique vocabularies\n",
        "len(mapping)"
      ]
    },
    {
      "cell_type": "code",
      "execution_count": 33,
      "metadata": {},
      "outputs": [],
      "source": [
        "import pickle\n",
        "\n",
        "pickle.dump(vocab_transform, open('./vocab/vocab_transform.pkl', 'wb'))\n",
        "pickle.dump(token_transform, open('./vocab/token_transform.pkl', 'wb'))"
      ]
    },
    {
      "cell_type": "code",
      "execution_count": 37,
      "metadata": {},
      "outputs": [
        {
          "data": {
            "text/plain": [
              "['<unk>',\n",
              " '<pad>',\n",
              " '<sos>',\n",
              " '<eos>',\n",
              " ',',\n",
              " 'the',\n",
              " '.',\n",
              " 'to',\n",
              " 'and',\n",
              " 'of',\n",
              " 'in',\n",
              " '\"',\n",
              " 'a',\n",
              " '-',\n",
              " \"'s\",\n",
              " 'The',\n",
              " 'that',\n",
              " 'said',\n",
              " 'for',\n",
              " 'China',\n",
              " 'is',\n",
              " 'with',\n",
              " 'on',\n",
              " 'as',\n",
              " 'U.S.',\n",
              " 'by',\n",
              " 'has',\n",
              " 'from',\n",
              " 'its',\n",
              " 'are',\n",
              " 'at',\n",
              " 'have',\n",
              " 'South',\n",
              " 'Korea',\n",
              " 'it',\n",
              " 'an',\n",
              " '(',\n",
              " 'military',\n",
              " ')',\n",
              " 'be',\n",
              " 'North',\n",
              " 'will',\n",
              " 'was',\n",
              " 'Japan',\n",
              " 'which',\n",
              " 'according',\n",
              " 'also',\n",
              " 'security',\n",
              " 'more',\n",
              " 'Pacific',\n",
              " 'their',\n",
              " 'Chinese',\n",
              " 'not',\n",
              " 'defense',\n",
              " 'he',\n",
              " 'countries',\n",
              " 'region',\n",
              " 'In',\n",
              " 'Sea',\n",
              " 'India',\n",
              " 'reported',\n",
              " 'United',\n",
              " '2017',\n",
              " 'other',\n",
              " 'been',\n",
              " 'government',\n",
              " 'would',\n",
              " '2018',\n",
              " 'or',\n",
              " 'Korean',\n",
              " 'Defense',\n",
              " 'they',\n",
              " 'two',\n",
              " 'about',\n",
              " '—',\n",
              " '2016',\n",
              " 'new',\n",
              " 'his',\n",
              " 'between',\n",
              " 'than',\n",
              " 'were',\n",
              " 'but',\n",
              " 'Australia',\n",
              " 'Asia',\n",
              " 'such',\n",
              " 'this',\n",
              " ':',\n",
              " 'country',\n",
              " 'It',\n",
              " 'States',\n",
              " 'Philippines',\n",
              " 'could',\n",
              " 'over',\n",
              " 'can',\n",
              " 'we',\n",
              " 'who',\n",
              " 'had',\n",
              " 'Minister',\n",
              " 'our',\n",
              " 'including',\n",
              " 'PRC',\n",
              " 'Indonesia',\n",
              " 'told',\n",
              " 'one',\n",
              " 'after',\n",
              " 'during',\n",
              " 'international',\n",
              " 'report',\n",
              " 'up',\n",
              " 'maritime',\n",
              " 'all',\n",
              " '$',\n",
              " 'years',\n",
              " 'first',\n",
              " 'Indo',\n",
              " 'people',\n",
              " 'President',\n",
              " 'missile',\n",
              " 'Beijing',\n",
              " 'year',\n",
              " 'A',\n",
              " 'cooperation',\n",
              " 'cyber',\n",
              " 'nations',\n",
              " 'against',\n",
              " 'officials',\n",
              " 'Taiwan',\n",
              " 'Navy',\n",
              " 'nuclear',\n",
              " 'world',\n",
              " 'Indian',\n",
              " 'New',\n",
              " 'into',\n",
              " 'Reuters',\n",
              " 'them',\n",
              " 'Singapore',\n",
              " 'exercise',\n",
              " 'through',\n",
              " 'Vietnam',\n",
              " 'most',\n",
              " 'when',\n",
              " 'operations',\n",
              " 'part',\n",
              " '2015',\n",
              " 'Force',\n",
              " 'forces',\n",
              " 'aircraft',\n",
              " 'law',\n",
              " 'joint',\n",
              " 'Japanese',\n",
              " 'Pictured',\n",
              " 'time',\n",
              " \"'\",\n",
              " 'I',\n",
              " '2019',\n",
              " 'there',\n",
              " 'Ministry',\n",
              " 'Southeast',\n",
              " 'ASEAN',\n",
              " 'Malaysia',\n",
              " 'some',\n",
              " 'training',\n",
              " 'out',\n",
              " 'regional',\n",
              " 'since',\n",
              " 'Kim',\n",
              " 'three',\n",
              " 'islands',\n",
              " 'Philippine',\n",
              " 'economic',\n",
              " 'any',\n",
              " 'Army',\n",
              " 'claims',\n",
              " 'long',\n",
              " 'trade',\n",
              " 'percent',\n",
              " 'We',\n",
              " 'based',\n",
              " 'recent',\n",
              " 'what',\n",
              " 'development',\n",
              " 'Australian',\n",
              " 'well',\n",
              " 'Air',\n",
              " 'where',\n",
              " 'million',\n",
              " 'these',\n",
              " 'island',\n",
              " 'weapons',\n",
              " 'air',\n",
              " 'no',\n",
              " 'Asian',\n",
              " 'news',\n",
              " 'This',\n",
              " 'foreign',\n",
              " 'under',\n",
              " 'statement',\n",
              " 'newspaper',\n",
              " 'system',\n",
              " 'do',\n",
              " 'threats',\n",
              " 'use',\n",
              " 'He',\n",
              " 'attacks',\n",
              " 'because',\n",
              " \"n't\",\n",
              " 'Prime',\n",
              " 'Nations',\n",
              " 'billion',\n",
              " 'support',\n",
              " 'Thailand',\n",
              " 'state',\n",
              " 'only',\n",
              " 'called',\n",
              " 'June',\n",
              " 'Republic',\n",
              " 'late',\n",
              " 'sanctions',\n",
              " 'work',\n",
              " 'so',\n",
              " 'strategic',\n",
              " 'made',\n",
              " 'Trump',\n",
              " 'Washington',\n",
              " 'threat',\n",
              " 'national',\n",
              " 'power',\n",
              " 'capabilities',\n",
              " 'missiles',\n",
              " 'now',\n",
              " 'National',\n",
              " 'State',\n",
              " 'They',\n",
              " ';',\n",
              " 'both',\n",
              " 'meeting',\n",
              " 'group',\n",
              " 'need',\n",
              " 'technology',\n",
              " 'information',\n",
              " 'nation',\n",
              " 'sea',\n",
              " 'being',\n",
              " 'ROK',\n",
              " 'added',\n",
              " 'many',\n",
              " 'building',\n",
              " 'across',\n",
              " 'if',\n",
              " 'make',\n",
              " 'among',\n",
              " 'used',\n",
              " '[',\n",
              " 'exercises',\n",
              " 'March',\n",
              " 'Security',\n",
              " 'efforts',\n",
              " 'should',\n",
              " 'while',\n",
              " 'May',\n",
              " ']',\n",
              " 'before',\n",
              " 'Russia',\n",
              " 'leaders',\n",
              " 'pictured',\n",
              " 'say',\n",
              " 'those',\n",
              " 'however',\n",
              " 'media',\n",
              " 'August',\n",
              " 'September',\n",
              " 'high',\n",
              " 'November',\n",
              " 'global',\n",
              " 'important',\n",
              " 'waters',\n",
              " 'Indonesian',\n",
              " 'early',\n",
              " 'People',\n",
              " 'police',\n",
              " 'how',\n",
              " 'take',\n",
              " 'rights',\n",
              " 'April',\n",
              " 'Foreign',\n",
              " 'troops',\n",
              " 'intelligence',\n",
              " 'political',\n",
              " 'East',\n",
              " 'U.N.',\n",
              " 'build',\n",
              " 'help',\n",
              " 'ships',\n",
              " 'December',\n",
              " 'systems',\n",
              " 'January',\n",
              " 'agreement',\n",
              " 'ties',\n",
              " 'attack',\n",
              " 'naval',\n",
              " 'February',\n",
              " 'activities',\n",
              " 'largest',\n",
              " 'may',\n",
              " 'personnel',\n",
              " 'International',\n",
              " 'growing',\n",
              " 'continue',\n",
              " 'human',\n",
              " 'peace',\n",
              " 'very',\n",
              " 'program',\n",
              " 'policy',\n",
              " 'border',\n",
              " 'range',\n",
              " 'even',\n",
              " 'force',\n",
              " 'past',\n",
              " 'Forces',\n",
              " 'control',\n",
              " 'allies',\n",
              " 'around',\n",
              " 'like',\n",
              " 'official',\n",
              " 'plans',\n",
              " 'within',\n",
              " 'Abe',\n",
              " 'Secretary',\n",
              " 'each',\n",
              " 'together',\n",
              " 'way',\n",
              " 'combat',\n",
              " 'As',\n",
              " 'ship',\n",
              " 'members',\n",
              " 'near',\n",
              " 'space',\n",
              " 'own',\n",
              " 'territorial',\n",
              " 'July',\n",
              " 'Sri',\n",
              " 'relations',\n",
              " 'number',\n",
              " 'October',\n",
              " 'Times',\n",
              " 'areas',\n",
              " 'war',\n",
              " 'Zealand',\n",
              " 'must',\n",
              " 'working',\n",
              " 'five',\n",
              " 'include',\n",
              " 'increase',\n",
              " 'infrastructure',\n",
              " 'groups',\n",
              " 'projects',\n",
              " 'talks',\n",
              " 'anti',\n",
              " 'ballistic',\n",
              " 'four',\n",
              " 'off',\n",
              " 'land',\n",
              " 'response',\n",
              " 'Bangladesh',\n",
              " '10',\n",
              " 'become',\n",
              " 'just',\n",
              " 'major',\n",
              " 'already',\n",
              " 'partners',\n",
              " 'visit',\n",
              " 'you',\n",
              " 'experts',\n",
              " 'role',\n",
              " 'Gen.',\n",
              " 'provide',\n",
              " 'Tokyo',\n",
              " 'announced',\n",
              " 'area',\n",
              " 'commander',\n",
              " 'held',\n",
              " 'known',\n",
              " 'much',\n",
              " 'states',\n",
              " 'terrorism',\n",
              " 'included',\n",
              " 'influence',\n",
              " 'Seoul',\n",
              " 'future',\n",
              " 'Department',\n",
              " 'Defence',\n",
              " 'Soldiers',\n",
              " 'concerns',\n",
              " 'Islamic',\n",
              " 'along',\n",
              " 'deal',\n",
              " 'project',\n",
              " 'conduct',\n",
              " 'public',\n",
              " 'website',\n",
              " 'agreed',\n",
              " 'chief',\n",
              " 'disputed',\n",
              " 'online',\n",
              " 'think',\n",
              " 'Duterte',\n",
              " 'equipment',\n",
              " 'several',\n",
              " 'Institute',\n",
              " 'Lanka',\n",
              " 'built',\n",
              " 'did',\n",
              " 'key',\n",
              " 'For',\n",
              " 'city',\n",
              " 'Command',\n",
              " 'There',\n",
              " 'end',\n",
              " 'then',\n",
              " 'top',\n",
              " 'vessels',\n",
              " 'second',\n",
              " 'Ocean',\n",
              " 'disaster',\n",
              " 'left',\n",
              " 'minister',\n",
              " 'senior',\n",
              " 'That',\n",
              " 'found',\n",
              " 'issues',\n",
              " 'she',\n",
              " 'using',\n",
              " 'Islands',\n",
              " 'While',\n",
              " 'day',\n",
              " 'next',\n",
              " 'Burma',\n",
              " 'Press',\n",
              " 'Pyongyang',\n",
              " 'interests',\n",
              " 'plan',\n",
              " 'relationship',\n",
              " 'One',\n",
              " 'bilateral',\n",
              " 'close',\n",
              " 'director',\n",
              " 'move',\n",
              " 'toward',\n",
              " 'France',\n",
              " 'Hong',\n",
              " 'fishing',\n",
              " 'place',\n",
              " 'presence',\n",
              " 'ISIS',\n",
              " 'University',\n",
              " 'Xi',\n",
              " 'drills',\n",
              " 'spokesman',\n",
              " 'right',\n",
              " 'strengthen',\n",
              " 'Associated',\n",
              " 'recently',\n",
              " 'strong',\n",
              " 'us',\n",
              " 'authorities',\n",
              " 'challenges',\n",
              " 'sovereignty',\n",
              " 'back',\n",
              " 'large',\n",
              " 'likely',\n",
              " 'stability',\n",
              " 'surveillance',\n",
              " 'without',\n",
              " 'agency',\n",
              " 'does',\n",
              " 'freedom',\n",
              " 'still',\n",
              " 'If',\n",
              " 'Jong',\n",
              " 'increased',\n",
              " 'see',\n",
              " 'test',\n",
              " 'Kong',\n",
              " 'carrier',\n",
              " 'community',\n",
              " 'potential',\n",
              " '2014',\n",
              " 'Council',\n",
              " 'These',\n",
              " 'another',\n",
              " 'women',\n",
              " 'former',\n",
              " 'kilometers',\n",
              " 'led',\n",
              " 'companies',\n",
              " 'fighter',\n",
              " 'involved',\n",
              " 'months',\n",
              " 'Africa',\n",
              " 'Center',\n",
              " 'base',\n",
              " 'down',\n",
              " 'launch',\n",
              " 'level',\n",
              " 'port',\n",
              " 'conducted',\n",
              " 'diplomatic',\n",
              " 'maintain',\n",
              " 'partner',\n",
              " '20',\n",
              " 'Syria',\n",
              " 'remains',\n",
              " 'Armed',\n",
              " 'addition',\n",
              " 'artificial',\n",
              " 'better',\n",
              " 'example',\n",
              " 'increasing',\n",
              " 'navigation',\n",
              " 'Moon',\n",
              " 'conflict',\n",
              " 'construction',\n",
              " 'industry',\n",
              " 'member',\n",
              " 'nearly',\n",
              " 'took',\n",
              " 'center',\n",
              " 'environment',\n",
              " 'financial',\n",
              " 'making',\n",
              " 'reports',\n",
              " 'same',\n",
              " 'signed',\n",
              " 'territory',\n",
              " 'Donald',\n",
              " 'deployed',\n",
              " 'killed',\n",
              " 'Brunei',\n",
              " 'FORUM',\n",
              " 'access',\n",
              " 'command',\n",
              " 'service',\n",
              " '12',\n",
              " 'Jakarta',\n",
              " 'set',\n",
              " 'data',\n",
              " 'free',\n",
              " 'launched',\n",
              " 'Modi',\n",
              " 'News',\n",
              " 'capability',\n",
              " 'risk',\n",
              " 'advanced',\n",
              " 'coast',\n",
              " 'develop',\n",
              " 'increasingly',\n",
              " 'last',\n",
              " 'submarines',\n",
              " 'War',\n",
              " 'ensure',\n",
              " 'Association',\n",
              " 'annual',\n",
              " 'armed',\n",
              " 'counter',\n",
              " 'days',\n",
              " 'far',\n",
              " 'following',\n",
              " 'further',\n",
              " 'least',\n",
              " 'measures',\n",
              " 'tensions',\n",
              " 'explained',\n",
              " 'facilities',\n",
              " 'her',\n",
              " 'mission',\n",
              " 'order',\n",
              " 'possible',\n",
              " 'actions',\n",
              " 'assistance',\n",
              " 'leader',\n",
              " 'open',\n",
              " '1',\n",
              " 'World',\n",
              " 'address',\n",
              " 'disputes',\n",
              " 'needs',\n",
              " 'pressure',\n",
              " 'Malaysian',\n",
              " 'Studies',\n",
              " 'decades',\n",
              " 'going',\n",
              " 'local',\n",
              " 'reporters',\n",
              " 'water',\n",
              " 'wrote',\n",
              " 'Delhi',\n",
              " 'Pakistan',\n",
              " 'action',\n",
              " 'conference',\n",
              " 'investment',\n",
              " 'Group',\n",
              " 'However',\n",
              " 'USS',\n",
              " 'concern',\n",
              " 'face',\n",
              " 'submarine',\n",
              " 'assets',\n",
              " 'home',\n",
              " 'humanitarian',\n",
              " 'related',\n",
              " 'similar',\n",
              " 'strategy',\n",
              " 'summit',\n",
              " 'wants',\n",
              " 'comes',\n",
              " 'enforcement',\n",
              " 'enhance',\n",
              " 'greater',\n",
              " 'issue',\n",
              " 'president',\n",
              " 'programs',\n",
              " 'protect',\n",
              " 'Un',\n",
              " 'given',\n",
              " 'line',\n",
              " 'Manila',\n",
              " 'Thai',\n",
              " 'analysts',\n",
              " 'clear',\n",
              " 'continued',\n",
              " 'growth',\n",
              " 'improve',\n",
              " 'others',\n",
              " 'research',\n",
              " 'Adm.',\n",
              " 'Iraq',\n",
              " 'business',\n",
              " 'every',\n",
              " 'met',\n",
              " 'southern',\n",
              " 'Agency',\n",
              " 'Self',\n",
              " 'described',\n",
              " 'developing',\n",
              " 'money',\n",
              " 'sharing',\n",
              " 'small',\n",
              " 'social',\n",
              " '5',\n",
              " 'American',\n",
              " 'Peninsula',\n",
              " 'began',\n",
              " 'change',\n",
              " 'network',\n",
              " 'operation',\n",
              " 'patrol',\n",
              " 'whether',\n",
              " 'To',\n",
              " 'claimed',\n",
              " 'get',\n",
              " 'partnership',\n",
              " 'patrols',\n",
              " 'share',\n",
              " 'shared',\n",
              " 'Mattis',\n",
              " 'allow',\n",
              " 'commitment',\n",
              " 'neighbors',\n",
              " 'saying',\n",
              " 'sent',\n",
              " \"'re\",\n",
              " 'adding',\n",
              " 'expected',\n",
              " 'fighters',\n",
              " 'good',\n",
              " 'natural',\n",
              " 'officers',\n",
              " 'resources',\n",
              " 'says',\n",
              " 'six',\n",
              " 'times',\n",
              " 'various',\n",
              " 'At',\n",
              " 'ability',\n",
              " 'crime',\n",
              " 'economy',\n",
              " 'operational',\n",
              " 'remain',\n",
              " 'stop',\n",
              " 'Although',\n",
              " 'Harris',\n",
              " 'agencies',\n",
              " 'interest',\n",
              " 'later',\n",
              " 'organizations',\n",
              " 'regime',\n",
              " 'series',\n",
              " 'strike',\n",
              " 'Maritime',\n",
              " 'Some',\n",
              " 'continues',\n",
              " 'established',\n",
              " 'governments',\n",
              " 'keep',\n",
              " 'respond',\n",
              " 'ruling',\n",
              " 'special',\n",
              " 'taken',\n",
              " 'third',\n",
              " 'arms',\n",
              " 'challenge',\n",
              " 'critical',\n",
              " 'speech',\n",
              " 'team',\n",
              " 'Lee',\n",
              " 'come',\n",
              " 'create',\n",
              " 'debt',\n",
              " 'decision',\n",
              " 'latest',\n",
              " 'oil',\n",
              " 'population',\n",
              " 'significant',\n",
              " 'warfare',\n",
              " 'ISIL',\n",
              " 'Our',\n",
              " 'campaign',\n",
              " 'company',\n",
              " 'defend',\n",
              " 'designed',\n",
              " 'focus',\n",
              " 'illegal',\n",
              " 'importance',\n",
              " 'less',\n",
              " 'relief',\n",
              " 'step',\n",
              " 'terrorist',\n",
              " 'Western',\n",
              " 'administration',\n",
              " 'citizens',\n",
              " 'drug',\n",
              " 'legal',\n",
              " '...',\n",
              " '/',\n",
              " 'forward',\n",
              " 'party',\n",
              " 'released',\n",
              " 'AP',\n",
              " 'Strategic',\n",
              " 'deployment',\n",
              " 'effective',\n",
              " 'exchange',\n",
              " 'fight',\n",
              " 'militants',\n",
              " 'capacity',\n",
              " 'dispute',\n",
              " 'engagement',\n",
              " 'general',\n",
              " 'internet',\n",
              " 'Turnbull',\n",
              " 'alliance',\n",
              " 'biggest',\n",
              " 'came',\n",
              " 'current',\n",
              " 'domestic',\n",
              " 'effort',\n",
              " 'includes',\n",
              " 'seen',\n",
              " 'study',\n",
              " 'term',\n",
              " 'Party',\n",
              " 'due',\n",
              " 'mid',\n",
              " 'might',\n",
              " 'office',\n",
              " 'ongoing',\n",
              " 'private',\n",
              " 'services',\n",
              " 'situation',\n",
              " 'Jinping',\n",
              " 'approach',\n",
              " 'common',\n",
              " 'emphasized',\n",
              " 'process',\n",
              " 'tests',\n",
              " 'able',\n",
              " 'aid',\n",
              " 'away',\n",
              " 'food',\n",
              " 'leadership',\n",
              " 'ministry',\n",
              " 'planned',\n",
              " 'show',\n",
              " '15',\n",
              " 'especially',\n",
              " 'expressed',\n",
              " 'ground',\n",
              " 'magazine',\n",
              " 'often',\n",
              " 'operate',\n",
              " 'taking',\n",
              " 'Diplomat',\n",
              " 'firm',\n",
              " 'rules',\n",
              " 'trying',\n",
              " 'warning',\n",
              " '30',\n",
              " 'give',\n",
              " 'health',\n",
              " 'history',\n",
              " 'live',\n",
              " 'province',\n",
              " 'soon',\n",
              " 'sources',\n",
              " 'More',\n",
              " 'activity',\n",
              " 'class',\n",
              " 'earlier',\n",
              " 'event',\n",
              " 'exchanges',\n",
              " 'existing',\n",
              " 'him',\n",
              " 'safety',\n",
              " 'seven',\n",
              " 'want',\n",
              " 'Russian',\n",
              " 'With',\n",
              " 'accounts',\n",
              " 'case',\n",
              " 'dialogue',\n",
              " 'domain',\n",
              " 'few',\n",
              " 'lead',\n",
              " 'meet',\n",
              " 'old',\n",
              " 'put',\n",
              " 'rule',\n",
              " 'After',\n",
              " 'Guard',\n",
              " 'Lt',\n",
              " 'civilian',\n",
              " 'discussed',\n",
              " 'larger',\n",
              " 'market',\n",
              " 'means',\n",
              " 'missions',\n",
              " 'progress',\n",
              " 'release',\n",
              " 'rescue',\n",
              " 'vessel',\n",
              " '40',\n",
              " 'calls',\n",
              " 'energy',\n",
              " 'involving',\n",
              " 'jets',\n",
              " 'medical',\n",
              " 'networks',\n",
              " 'particularly',\n",
              " 'prevent',\n",
              " 'radar',\n",
              " 'Affairs',\n",
              " 'Dr.',\n",
              " 'believe',\n",
              " 'budget',\n",
              " 'children',\n",
              " 'counterterrorism',\n",
              " 'election',\n",
              " 'gas',\n",
              " 'go',\n",
              " 'main',\n",
              " 'promote',\n",
              " '2012',\n",
              " 'An',\n",
              " 'Canada',\n",
              " 'Coast',\n",
              " 'Shinzo',\n",
              " 'additional',\n",
              " 'central',\n",
              " 'here',\n",
              " 'issued',\n",
              " 'name',\n",
              " 'outside',\n",
              " 'relationships',\n",
              " 'terror',\n",
              " '2013',\n",
              " 'Agence',\n",
              " 'But',\n",
              " 'Marine',\n",
              " 'Presse',\n",
              " 'When',\n",
              " 'big',\n",
              " 'militaries',\n",
              " 'ministers',\n",
              " 'participants',\n",
              " 'ready',\n",
              " 'self',\n",
              " 'serve',\n",
              " 'side',\n",
              " 'trafficking',\n",
              " 'treaty',\n",
              " 'Arctic',\n",
              " 'Widodo',\n",
              " 'ago',\n",
              " 'bank',\n",
              " 'battle',\n",
              " 'beyond',\n",
              " 'carried',\n",
              " 'closer',\n",
              " 'developed',\n",
              " 'guard',\n",
              " 'hold',\n",
              " 'provided',\n",
              " 'satellite',\n",
              " 'spending',\n",
              " 'terms',\n",
              " 'trillion',\n",
              " 'vehicles',\n",
              " 'zone',\n",
              " '50',\n",
              " 'America',\n",
              " 'Koreans',\n",
              " 'Military',\n",
              " 'Pentagon',\n",
              " 'amphibious',\n",
              " 'bases',\n",
              " 'capital',\n",
              " 'ceremony',\n",
              " 'committed',\n",
              " 'concerned',\n",
              " 'crisis',\n",
              " 'different',\n",
              " 'focused',\n",
              " 'half',\n",
              " 'head',\n",
              " 'levels',\n",
              " 'point',\n",
              " 'position',\n",
              " 'Cambodia',\n",
              " 'Vietnamese',\n",
              " 'ever',\n",
              " 'expand',\n",
              " 'expert',\n",
              " 'opportunity',\n",
              " 'real',\n",
              " 'return',\n",
              " 'things',\n",
              " '100',\n",
              " '18',\n",
              " 'Marawi',\n",
              " 'On',\n",
              " 'Police',\n",
              " 'Spratly',\n",
              " 'best',\n",
              " 'climate',\n",
              " 'collaboration',\n",
              " 'combined',\n",
              " 'discuss',\n",
              " 'initiative',\n",
              " 'institutions',\n",
              " 'interoperability',\n",
              " 'joined',\n",
              " 'man',\n",
              " 'push',\n",
              " 'understanding',\n",
              " 'ways',\n",
              " 'During',\n",
              " 'Since',\n",
              " 'above',\n",
              " 'hundreds',\n",
              " 'participated',\n",
              " 'reach',\n",
              " 'reduce',\n",
              " 'society',\n",
              " 'source',\n",
              " 'tank',\n",
              " 'thousands',\n",
              " 'week',\n",
              " 'Bank',\n",
              " 'Island',\n",
              " 'Muslim',\n",
              " 'Royal',\n",
              " 'arrested',\n",
              " 'created',\n",
              " 'disasters',\n",
              " 'hard',\n",
              " 'little',\n",
              " 'low',\n",
              " 'never',\n",
              " 'operating',\n",
              " 'organization',\n",
              " 'previous',\n",
              " 'proposed',\n",
              " 'until',\n",
              " 'British',\n",
              " 'Cooperation',\n",
              " 'Many',\n",
              " 'Road',\n",
              " 'accused',\n",
              " 'almost',\n",
              " 'capable',\n",
              " ...]"
            ]
          },
          "execution_count": 37,
          "metadata": {},
          "output_type": "execute_result"
        }
      ],
      "source": [
        "vocab_transform['en'].get_itos()"
      ]
    },
    {
      "cell_type": "markdown",
      "metadata": {
        "id": "jPcF9MWjjXrA",
        "tags": []
      },
      "source": [
        "## 4. Preparing the dataloader\n",
        "\n",
        "One thing we change here is the <code>collate_fn</code> which now also returns the length of sentence.  This is required for <code>packed_padded_sequence</code>"
      ]
    },
    {
      "cell_type": "code",
      "execution_count": null,
      "metadata": {
        "id": "JBBfQoiSjXrA"
      },
      "outputs": [],
      "source": [
        "from torch.nn.utils.rnn import pad_sequence\n",
        "from torch.utils.data import DataLoader\n",
        "\n",
        "BATCH_SIZE = 32\n",
        "\n",
        "# helper function to club together sequential operations\n",
        "def sequential_transforms(*transforms):\n",
        "    def func(txt_input):\n",
        "        for transform in transforms:\n",
        "            txt_input = transform(txt_input)\n",
        "        return txt_input\n",
        "    return func\n",
        "\n",
        "# function to add BOS/EOS and create tensor for input sequence indices\n",
        "def tensor_transform(token_ids):\n",
        "    return torch.cat((torch.tensor([SOS_IDX]),\n",
        "                      torch.tensor(token_ids),\n",
        "                      torch.tensor([EOS_IDX])))\n",
        "\n",
        "# src and trg language text transforms to convert raw strings into tensors indices\n",
        "text_transform = {}\n",
        "for ln in ['en', 'th']:\n",
        "    text_transform[ln] = sequential_transforms(token_transform[ln], #Tokenization\n",
        "                                               vocab_transform[ln], #Numericalization\n",
        "                                               tensor_transform) # Add BOS/EOS and create tensor\n",
        "\n",
        "\n",
        "# function to collate data samples into batch tesors\n",
        "def collate_batch(batch):\n",
        "    src_batch, src_len_batch, trg_batch = [], [], []\n",
        "    for src_sample, trg_sample in batch:\n",
        "        processed_text = text_transform['en'](src_sample.rstrip(\"\\n\"))\n",
        "        src_batch.append(processed_text)\n",
        "        trg_batch.append(text_transform['th'](trg_sample.rstrip(\"\\n\")))\n",
        "        src_len_batch.append(processed_text.size(0))\n",
        "\n",
        "    src_batch = pad_sequence(src_batch, padding_value=PAD_IDX, batch_first = True) #<----need this because we use linear layers mostly\n",
        "    trg_batch = pad_sequence(trg_batch, padding_value=PAD_IDX, batch_first = True)\n",
        "    return src_batch, torch.tensor(src_len_batch, dtype=torch.int64), trg_batch"
      ]
    },
    {
      "cell_type": "markdown",
      "metadata": {
        "id": "hmZ-03oVjXrA"
      },
      "source": [
        "Create train, val, and test dataloaders"
      ]
    },
    {
      "cell_type": "code",
      "execution_count": null,
      "metadata": {
        "colab": {
          "base_uri": "https://localhost:8080/"
        },
        "id": "QtDKOEq2jXrA",
        "outputId": "f8d7a8b0-0c97-4864-d0f1-c2d4e7cfa960"
      },
      "outputs": [],
      "source": [
        "next(iter(train['translation']))"
      ]
    },
    {
      "cell_type": "code",
      "execution_count": null,
      "metadata": {
        "id": "iyQi6t59jXrA"
      },
      "outputs": [],
      "source": [
        "def extractor(input):\n",
        "    return [list(d.values()) for d in input]"
      ]
    },
    {
      "cell_type": "code",
      "execution_count": null,
      "metadata": {
        "id": "tbEHU6RkjXrA"
      },
      "outputs": [],
      "source": [
        "batch_size = 32\n",
        "\n",
        "train_loader = DataLoader(extractor(train['translation']), batch_size=batch_size, shuffle=True, collate_fn=collate_batch)\n",
        "valid_loader = DataLoader(extractor(val['translation']),   batch_size=batch_size, shuffle=False, collate_fn=collate_batch)\n",
        "test_loader  = DataLoader(extractor(test['translation']),  batch_size=batch_size, shuffle=False, collate_fn=collate_batch)"
      ]
    },
    {
      "cell_type": "markdown",
      "metadata": {
        "id": "wZXmkabYjXrB"
      },
      "source": [
        "Let's test the train loader."
      ]
    },
    {
      "cell_type": "code",
      "execution_count": null,
      "metadata": {
        "id": "QHDSGa9vjXrB"
      },
      "outputs": [],
      "source": [
        "for en, _, th in train_loader:\n",
        "    break"
      ]
    },
    {
      "cell_type": "code",
      "execution_count": null,
      "metadata": {
        "colab": {
          "base_uri": "https://localhost:8080/"
        },
        "id": "wUHlAzZLjXrB",
        "outputId": "96c46846-2f42-48eb-cfb0-e12b47cbba38"
      },
      "outputs": [],
      "source": [
        "print(\"English shape: \", en.shape)  # (batch_size, seq len)\n",
        "print(\"Thai shape: \", th.shape)   # (batch_size, seq len)"
      ]
    },
    {
      "cell_type": "markdown",
      "metadata": {
        "id": "XMe-8XvujXrJ"
      },
      "source": [
        "## 5. Design the model\n",
        "\n",
        "<img src=\"../figures/transformer-encoder.png\" >"
      ]
    },
    {
      "cell_type": "markdown",
      "metadata": {
        "id": "1ksD38QvjXrJ"
      },
      "source": [
        "### Encoder Layer"
      ]
    },
    {
      "cell_type": "code",
      "execution_count": null,
      "metadata": {
        "id": "7leRPJ-wjXrJ"
      },
      "outputs": [],
      "source": [
        "class EncoderLayer(nn.Module):\n",
        "    def __init__(self, hid_dim, n_heads, pf_dim, dropout, device):\n",
        "        super().__init__()\n",
        "        self.self_attn_layer_norm = nn.LayerNorm(hid_dim)\n",
        "        self.ff_layer_norm        = nn.LayerNorm(hid_dim)\n",
        "        self.self_attention       = MultiHeadAttentionLayer(hid_dim, n_heads, dropout, device)\n",
        "        self.feedforward          = PositionwiseFeedforwardLayer(hid_dim, pf_dim, dropout)\n",
        "        self.dropout              = nn.Dropout(dropout)\n",
        "\n",
        "    def forward(self, src, src_mask):\n",
        "        #src = [batch size, src len, hid dim]\n",
        "        #src_mask = [batch size, 1, 1, src len]   #if the token is padding, it will be 1, otherwise 0\n",
        "        _src, _ = self.self_attention(src, src, src, src_mask)\n",
        "        src     = self.self_attn_layer_norm(src + self.dropout(_src))\n",
        "        #src: [batch_size, src len, hid dim]\n",
        "\n",
        "        _src    = self.feedforward(src)\n",
        "        src     = self.ff_layer_norm(src + self.dropout(_src))\n",
        "        #src: [batch_size, src len, hid dim]\n",
        "\n",
        "        return src"
      ]
    },
    {
      "cell_type": "markdown",
      "metadata": {
        "id": "4M-WkGVSjXrK"
      },
      "source": [
        "### Encoder"
      ]
    },
    {
      "cell_type": "code",
      "execution_count": null,
      "metadata": {
        "id": "MH20Y5qNjXrK"
      },
      "outputs": [],
      "source": [
        "class Encoder(nn.Module):\n",
        "    def __init__(self, input_dim, hid_dim, n_layers, n_heads, pf_dim, dropout, device, max_length = 512):\n",
        "        super().__init__()\n",
        "        self.device = device\n",
        "        self.tok_embedding = nn.Embedding(input_dim, hid_dim)\n",
        "        self.pos_embedding = nn.Embedding(max_length, hid_dim)\n",
        "        self.layers        = nn.ModuleList([EncoderLayer(hid_dim, n_heads, pf_dim, dropout, device)\n",
        "                                           for _ in range(n_layers)])\n",
        "        self.dropout       = nn.Dropout(dropout)\n",
        "        self.scale         = torch.sqrt(torch.FloatTensor([hid_dim])).to(self.device)\n",
        "\n",
        "    def forward(self, src, src_mask):\n",
        "\n",
        "        #src = [batch size, src len]\n",
        "        #src_mask = [batch size, 1, 1, src len]\n",
        "\n",
        "        batch_size = src.shape[0]\n",
        "        src_len    = src.shape[1]\n",
        "\n",
        "        pos        = torch.arange(0, src_len).unsqueeze(0).repeat(batch_size, 1).to(self.device)\n",
        "        #pos: [batch_size, src_len]\n",
        "\n",
        "        src        = self.dropout((self.tok_embedding(src) * self.scale) + self.pos_embedding(pos))\n",
        "        #src: [batch_size, src_len, hid_dim]\n",
        "\n",
        "        for layer in self.layers:\n",
        "            src = layer(src, src_mask)\n",
        "        #src: [batch_size, src_len, hid_dim]\n",
        "\n",
        "        return src\n"
      ]
    },
    {
      "cell_type": "markdown",
      "metadata": {
        "id": "KWyZrDYojXrK"
      },
      "source": [
        "### Mutli Head Attention Layer\n",
        "\n",
        "<img src = \"../figures/transformer-attention.png\" width=\"700\">\n",
        "\n",
        "$$ \\text{Attention}(Q, K, V) = \\text{Softmax} \\big( \\frac{QK^T}{\\sqrt{d_k}} \\big)V $$"
      ]
    },
    {
      "cell_type": "code",
      "execution_count": null,
      "metadata": {
        "id": "Gk2tVPMjjXrK"
      },
      "outputs": [],
      "source": [
        "class MultiHeadAttentionLayer(nn.Module):\n",
        "    def __init__(self, hid_dim, n_heads, dropout, device):\n",
        "        super().__init__()\n",
        "        assert hid_dim % n_heads == 0\n",
        "        self.hid_dim  = hid_dim\n",
        "        self.n_heads  = n_heads\n",
        "        self.head_dim = hid_dim // n_heads\n",
        "\n",
        "        self.fc_q     = nn.Linear(hid_dim, hid_dim)\n",
        "        self.fc_k     = nn.Linear(hid_dim, hid_dim)\n",
        "        self.fc_v     = nn.Linear(hid_dim, hid_dim)\n",
        "\n",
        "        self.fc_o     = nn.Linear(hid_dim, hid_dim)\n",
        "\n",
        "        self.dropout  = nn.Dropout(dropout)\n",
        "\n",
        "        self.scale    = torch.sqrt(torch.FloatTensor([self.head_dim])).to(device)\n",
        "\n",
        "    def forward(self, query, key, value, mask = None):\n",
        "        #src, src, src, src_mask\n",
        "        #query = [batch size, query len, hid dim]\n",
        "        #key = [batch size, key len, hid dim]\n",
        "        #value = [batch size, value len, hid dim]\n",
        "\n",
        "        batch_size = query.shape[0]\n",
        "\n",
        "        Q = self.fc_q(query)\n",
        "        K = self.fc_k(key)\n",
        "        V = self.fc_v(value)\n",
        "        #Q=K=V: [batch_size, src len, hid_dim]\n",
        "\n",
        "        Q = Q.view(batch_size, -1, self.n_heads, self.head_dim).permute(0, 2, 1, 3)\n",
        "        K = K.view(batch_size, -1, self.n_heads, self.head_dim).permute(0, 2, 1, 3)\n",
        "        V = V.view(batch_size, -1, self.n_heads, self.head_dim).permute(0, 2, 1, 3)\n",
        "        #Q = [batch_size, n heads, query len, head_dim]\n",
        "\n",
        "        energy = torch.matmul(Q, K.permute(0, 1, 3, 2)) / self.scale\n",
        "        #Q = [batch_size, n heads, query len, head_dim] @ K = [batch_size, n heads, head_dim, key len]\n",
        "        #energy = [batch_size, n heads, query len, key len]\n",
        "\n",
        "        #for making attention to padding to 0\n",
        "        if mask is not None:\n",
        "            energy = energy.masked_fill(mask == 0, -1e10)\n",
        "\n",
        "        attention = torch.softmax(energy, dim = -1)\n",
        "        #attention = [batch_size, n heads, query len, key len]\n",
        "\n",
        "        x = torch.matmul(self.dropout(attention), V)\n",
        "        #[batch_size, n heads, query len, key len] @ [batch_size, n heads, value len, head_dim]\n",
        "        #x = [batch_size, n heads, query len, head dim]\n",
        "\n",
        "        x = x.permute(0, 2, 1, 3).contiguous()  #we can perform .view\n",
        "        #x = [batch_size, query len, n heads, head dim]\n",
        "\n",
        "        x = x.view(batch_size, -1, self.hid_dim)\n",
        "        #x = [batch_size, query len, hid dim]\n",
        "\n",
        "        x = self.fc_o(x)\n",
        "        #x = [batch_size, query len, hid dim]\n",
        "\n",
        "        return x, attention\n"
      ]
    },
    {
      "cell_type": "markdown",
      "metadata": {
        "id": "8-p0UdeGjXrK"
      },
      "source": [
        "### Position-wise Feedforward Layer"
      ]
    },
    {
      "cell_type": "code",
      "execution_count": null,
      "metadata": {
        "id": "Ok6KzEIGjXrK"
      },
      "outputs": [],
      "source": [
        "class PositionwiseFeedforwardLayer(nn.Module):\n",
        "    def __init__(self, hid_dim, pf_dim, dropout):\n",
        "        super().__init__()\n",
        "        self.fc1 = nn.Linear(hid_dim, pf_dim)\n",
        "        self.fc2 = nn.Linear(pf_dim, hid_dim)\n",
        "        self.dropout = nn.Dropout(dropout)\n",
        "\n",
        "    def forward(self, x):\n",
        "        #x = [batch size, src len, hid dim]\n",
        "        x = self.dropout(torch.relu(self.fc1(x)))\n",
        "        x = self.fc2(x)\n",
        "\n",
        "        return x"
      ]
    },
    {
      "cell_type": "markdown",
      "metadata": {
        "id": "TRVsFXVqjXrK",
        "tags": []
      },
      "source": [
        "### Decoder Layer\n",
        "\n",
        "<img src = \"../figures/transformer-decoder.png\" >"
      ]
    },
    {
      "cell_type": "code",
      "execution_count": null,
      "metadata": {
        "id": "EZE0TlHJjXrL"
      },
      "outputs": [],
      "source": [
        "class DecoderLayer(nn.Module):\n",
        "    def __init__(self, hid_dim, n_heads, pf_dim, dropout, device):\n",
        "        super().__init__()\n",
        "        self.self_attn_layer_norm = nn.LayerNorm(hid_dim)\n",
        "        self.enc_attn_layer_norm  = nn.LayerNorm(hid_dim)\n",
        "        self.ff_layer_norm        = nn.LayerNorm(hid_dim)\n",
        "        self.self_attention       = MultiHeadAttentionLayer(hid_dim, n_heads, dropout, device)\n",
        "        self.encoder_attention    = MultiHeadAttentionLayer(hid_dim, n_heads, dropout, device)\n",
        "        self.feedforward          = PositionwiseFeedforwardLayer(hid_dim, pf_dim, dropout)\n",
        "        self.dropout              = nn.Dropout(dropout)\n",
        "\n",
        "    def forward(self, trg, enc_src, trg_mask, src_mask):\n",
        "\n",
        "        #trg = [batch size, trg len, hid dim]\n",
        "        #enc_src = [batch size, src len, hid dim]\n",
        "        #trg_mask = [batch size, 1, trg len, trg len]\n",
        "        #src_mask = [batch size, 1, 1, src len]\n",
        "\n",
        "        _trg, _ = self.self_attention(trg, trg, trg, trg_mask)\n",
        "        trg     = self.self_attn_layer_norm(trg + self.dropout(_trg))\n",
        "        #trg = [batch_size, trg len, hid dim]\n",
        "\n",
        "        _trg, attention = self.encoder_attention(trg, enc_src, enc_src, src_mask)\n",
        "        trg             = self.enc_attn_layer_norm(trg + self.dropout(_trg))\n",
        "        #trg = [batch_size, trg len, hid dim]\n",
        "        #attention = [batch_size, n heads, trg len, src len]\n",
        "\n",
        "        _trg = self.feedforward(trg)\n",
        "        trg  = self.ff_layer_norm(trg + self.dropout(_trg))\n",
        "        #trg = [batch_size, trg len, hid dim]\n",
        "\n",
        "        return trg, attention"
      ]
    },
    {
      "cell_type": "markdown",
      "metadata": {
        "id": "L3fy0EzOjXrL"
      },
      "source": [
        "### Decoder"
      ]
    },
    {
      "cell_type": "code",
      "execution_count": null,
      "metadata": {
        "id": "HdkfRatKjXrL"
      },
      "outputs": [],
      "source": [
        "class Decoder(nn.Module):\n",
        "    def __init__(self, output_dim, hid_dim, n_layers, n_heads,\n",
        "                 pf_dim, dropout, device,max_length = 512):\n",
        "        super().__init__()\n",
        "        self.device = device\n",
        "        self.tok_embedding = nn.Embedding(output_dim, hid_dim)\n",
        "        self.pos_embedding = nn.Embedding(max_length, hid_dim)\n",
        "        self.layers        = nn.ModuleList([DecoderLayer(hid_dim, n_heads, pf_dim, dropout, device)\n",
        "                                            for _ in range(n_layers)])\n",
        "        self.fc_out        = nn.Linear(hid_dim, output_dim)\n",
        "        self.dropout       = nn.Dropout(dropout)\n",
        "        self.scale         = torch.sqrt(torch.FloatTensor([hid_dim])).to(device)\n",
        "\n",
        "    def forward(self, trg, enc_src, trg_mask, src_mask):\n",
        "\n",
        "        #trg = [batch size, trg len]\n",
        "        #enc_src = [batch size, src len, hid dim]\n",
        "        #trg_mask = [batch size, 1, trg len, trg len]\n",
        "        #src_mask = [batch size, 1, 1, src len]\n",
        "\n",
        "        batch_size = trg.shape[0]\n",
        "        trg_len    = trg.shape[1]\n",
        "\n",
        "        pos = torch.arange(0, trg_len).unsqueeze(0).repeat(batch_size, 1).to(self.device)\n",
        "        #pos: [batch_size, trg len]\n",
        "\n",
        "        trg = self.dropout((self.tok_embedding(trg) * self.scale) + self.pos_embedding(pos))\n",
        "        #trg: [batch_size, trg len, hid dim]\n",
        "\n",
        "        for layer in self.layers:\n",
        "            trg, attention = layer(trg, enc_src, trg_mask, src_mask)\n",
        "\n",
        "        #trg: [batch_size, trg len, hid dim]\n",
        "        #attention: [batch_size, n heads, trg len, src len]\n",
        "\n",
        "        output = self.fc_out(trg)\n",
        "        #output = [batch_size, trg len, output_dim]\n",
        "\n",
        "        return output, attention"
      ]
    },
    {
      "cell_type": "markdown",
      "metadata": {
        "id": "grnbgSEnjXrL"
      },
      "source": [
        "### Putting them together (become Seq2Seq!)\n",
        "\n",
        "Our `trg_sub_mask` will look something like this (for a target with 5 tokens):\n",
        "\n",
        "$$\\begin{matrix}\n",
        "1 & 0 & 0 & 0 & 0\\\\\n",
        "1 & 1 & 0 & 0 & 0\\\\\n",
        "1 & 1 & 1 & 0 & 0\\\\\n",
        "1 & 1 & 1 & 1 & 0\\\\\n",
        "1 & 1 & 1 & 1 & 1\\\\\n",
        "\\end{matrix}$$\n",
        "\n",
        "The \"subsequent\" mask is then logically anded with the padding mask, this combines the two masks ensuring both the subsequent tokens and the padding tokens cannot be attended to. For example if the last two tokens were `<pad>` tokens the mask would look like:\n",
        "\n",
        "$$\\begin{matrix}\n",
        "1 & 0 & 0 & 0 & 0\\\\\n",
        "1 & 1 & 0 & 0 & 0\\\\\n",
        "1 & 1 & 1 & 0 & 0\\\\\n",
        "1 & 1 & 1 & 0 & 0\\\\\n",
        "1 & 1 & 1 & 0 & 0\\\\\n",
        "\\end{matrix}$$"
      ]
    },
    {
      "cell_type": "code",
      "execution_count": null,
      "metadata": {
        "id": "28MUhLsjjXrL"
      },
      "outputs": [],
      "source": [
        "class Seq2SeqTransformer(nn.Module):\n",
        "    def __init__(self, encoder, decoder, src_pad_idx, trg_pad_idx, device):\n",
        "        super().__init__()\n",
        "        self.encoder = encoder\n",
        "        self.decoder = decoder\n",
        "        self.src_pad_idx = src_pad_idx\n",
        "        self.trg_pad_idx = trg_pad_idx\n",
        "        self.device = device\n",
        "\n",
        "    def make_src_mask(self, src):\n",
        "\n",
        "        #src = [batch size, src len]\n",
        "\n",
        "        src_mask = (src != self.src_pad_idx).unsqueeze(1).unsqueeze(2)\n",
        "        #src_mask = [batch size, 1, 1, src len]\n",
        "\n",
        "        return src_mask\n",
        "\n",
        "    def make_trg_mask(self, trg):\n",
        "\n",
        "        #trg = [batch size, trg len]\n",
        "\n",
        "        trg_pad_mask = (trg != self.trg_pad_idx).unsqueeze(1).unsqueeze(2)\n",
        "        #trg_pad_mask = [batch size, 1, 1, trg len]\n",
        "\n",
        "        trg_len = trg.shape[1]\n",
        "\n",
        "        trg_sub_mask = torch.tril(torch.ones((trg_len, trg_len), device = self.device)).bool()\n",
        "        #trg_sub_mask = [trg len, trg len]\n",
        "\n",
        "        trg_mask = trg_pad_mask & trg_sub_mask\n",
        "        #trg_mask = [batch size, 1, trg len, trg len]\n",
        "\n",
        "        return trg_mask\n",
        "\n",
        "    def forward(self, src, trg):\n",
        "\n",
        "        global src_mask\n",
        "\n",
        "        #src = [batch size, src len]\n",
        "        #trg = [batch size, trg len]\n",
        "\n",
        "        src_mask = self.make_src_mask(src)\n",
        "        trg_mask = self.make_trg_mask(trg)\n",
        "\n",
        "        #src_mask = [batch size, 1, 1, src len]\n",
        "        #trg_mask = [batch size, 1, trg len, trg len]\n",
        "\n",
        "        enc_src = self.encoder(src, src_mask)\n",
        "        #enc_src = [batch size, src len, hid dim]\n",
        "\n",
        "        output, attention = self.decoder(trg, enc_src, trg_mask, src_mask)\n",
        "\n",
        "        #output = [batch size, trg len, output dim]\n",
        "        #attention = [batch size, n heads, trg len, src len]\n",
        "\n",
        "        return output, attention"
      ]
    },
    {
      "cell_type": "markdown",
      "metadata": {
        "id": "Chp-ZRQ5jXrM",
        "tags": []
      },
      "source": [
        "## 6. Training"
      ]
    },
    {
      "cell_type": "code",
      "execution_count": null,
      "metadata": {
        "id": "syDROQ8bjXrM"
      },
      "outputs": [],
      "source": [
        "def initialize_weights(m):\n",
        "    if hasattr(m, 'weight') and m.weight.dim() > 1:\n",
        "        nn.init.xavier_uniform_(m.weight.data)"
      ]
    },
    {
      "cell_type": "code",
      "execution_count": null,
      "metadata": {
        "id": "HEr9FsWGjXrM"
      },
      "outputs": [],
      "source": [
        "INPUT_DIM = len(vocab_transform['en'])\n",
        "OUTPUT_DIM = len(vocab_transform['th'])\n",
        "HID_DIM = 256\n",
        "ENC_LAYERS = 3\n",
        "DEC_LAYERS = 3\n",
        "ENC_HEADS = 8\n",
        "DEC_HEADS = 8\n",
        "ENC_PF_DIM = 512\n",
        "DEC_PF_DIM = 512\n",
        "ENC_DROPOUT = 0.1\n",
        "DEC_DROPOUT = 0.1\n",
        "\n",
        "enc = Encoder(INPUT_DIM,\n",
        "              HID_DIM,\n",
        "              ENC_LAYERS,\n",
        "              ENC_HEADS,\n",
        "              ENC_PF_DIM,\n",
        "              ENC_DROPOUT,\n",
        "              device)\n",
        "\n",
        "dec = Decoder(OUTPUT_DIM,\n",
        "              HID_DIM,\n",
        "              DEC_LAYERS,\n",
        "              DEC_HEADS,\n",
        "              DEC_PF_DIM,\n",
        "              DEC_DROPOUT,\n",
        "              device)\n",
        "\n",
        "SRC_PAD_IDX = PAD_IDX\n",
        "TRG_PAD_IDX = PAD_IDX"
      ]
    },
    {
      "cell_type": "code",
      "execution_count": null,
      "metadata": {
        "colab": {
          "base_uri": "https://localhost:8080/"
        },
        "id": "a3ceYShVjXrM",
        "outputId": "9f754e61-d744-4a2c-c56d-d67fdb632760"
      },
      "outputs": [],
      "source": [
        "print(enc)"
      ]
    },
    {
      "cell_type": "code",
      "execution_count": null,
      "metadata": {
        "colab": {
          "base_uri": "https://localhost:8080/"
        },
        "id": "b0DcFjBgjXrM",
        "outputId": "9808789f-690f-4bac-ec08-31af95b26e89"
      },
      "outputs": [],
      "source": [
        "input_dim   = len(vocab_transform['en'])\n",
        "output_dim  = len(vocab_transform['th'])\n",
        "hid_dim = 256\n",
        "enc_layers = 3\n",
        "dec_layers = 3\n",
        "enc_heads = 8\n",
        "dec_heads = 8\n",
        "enc_pf_dim = 512\n",
        "dec_pf_dim = 512\n",
        "enc_dropout = 0.1\n",
        "dec_dropout = 0.1\n",
        "\n",
        "SRC_PAD_IDX = PAD_IDX\n",
        "TRG_PAD_IDX = PAD_IDX\n",
        "\n",
        "enc = Encoder(input_dim,\n",
        "              hid_dim,\n",
        "              enc_layers,\n",
        "              enc_heads,\n",
        "              enc_pf_dim,\n",
        "              enc_dropout,\n",
        "              device)\n",
        "\n",
        "dec = Decoder(output_dim,\n",
        "              hid_dim,\n",
        "              dec_layers,\n",
        "              dec_heads,\n",
        "              dec_pf_dim,\n",
        "              enc_dropout,\n",
        "              device)\n",
        "\n",
        "model = Seq2SeqTransformer(enc, dec, SRC_PAD_IDX, TRG_PAD_IDX, device).to(device)\n",
        "model.apply(initialize_weights)"
      ]
    },
    {
      "cell_type": "code",
      "execution_count": null,
      "metadata": {
        "colab": {
          "base_uri": "https://localhost:8080/"
        },
        "id": "yYNHrbM-jXrM",
        "outputId": "1515e814-dfa1-49a3-cbc9-bcec2a1d9239"
      },
      "outputs": [],
      "source": [
        "#we can print the complexity by the number of parameters\n",
        "def count_parameters(model):\n",
        "    params = [p.numel() for p in model.parameters() if p.requires_grad]\n",
        "    for item in params:\n",
        "        print(f'{item:>6}')\n",
        "    print(f'______\\n{sum(params):>6}')\n",
        "\n",
        "count_parameters(model)"
      ]
    },
    {
      "cell_type": "code",
      "execution_count": null,
      "metadata": {
        "id": "wvPiF8Y0jXrN"
      },
      "outputs": [],
      "source": [
        "import torch.optim as optim\n",
        "\n",
        "lr = 0.0005\n",
        "\n",
        "#training hyperparameters\n",
        "optimizer = optim.Adam(model.parameters(), lr=lr)\n",
        "criterion = nn.CrossEntropyLoss(ignore_index = TRG_PAD_IDX) #combine softmax with cross entropy"
      ]
    },
    {
      "cell_type": "markdown",
      "metadata": {
        "id": "TwGI6dZljXrN"
      },
      "source": [
        "Then, we'll define our training loop. This is the exact same as the one used in the previous tutorial.\n",
        "\n",
        "As we want our model to predict the `<eos>` token but not have it be an input into our model we simply slice the `<eos>` token off the end of the sequence. Thus:\n",
        "\n",
        "$$\\begin{align*}\n",
        "\\text{trg} &= [sos, x_1, x_2, x_3, eos]\\\\\n",
        "\\text{trg[:-1]} &= [sos, x_1, x_2, x_3]\n",
        "\\end{align*}$$\n",
        "\n",
        "$x_i$ denotes actual target sequence element. We then feed this into the model to get a predicted sequence that should hopefully predict the `<eos>` token:\n",
        "\n",
        "$$\\begin{align*}\n",
        "\\text{output} &= [y_1, y_2, y_3, eos]\n",
        "\\end{align*}$$\n",
        "\n",
        "$y_i$ denotes predicted target sequence element. We then calculate our loss using the original `trg` tensor with the `<sos>` token sliced off the front, leaving the `<eos>` token:\n",
        "\n",
        "$$\\begin{align*}\n",
        "\\text{output} &= [y_1, y_2, y_3, eos]\\\\\n",
        "\\text{trg[1:]} &= [x_1, x_2, x_3, eos]\n",
        "\\end{align*}$$\n",
        "\n",
        "We then calculate our losses and update our parameters as is standard."
      ]
    },
    {
      "cell_type": "code",
      "execution_count": null,
      "metadata": {
        "id": "YNgqFq6IjXrN"
      },
      "outputs": [],
      "source": [
        "def train(model, loader, optimizer, criterion, clip, loader_length):\n",
        "\n",
        "    model.train()\n",
        "\n",
        "    epoch_loss = 0\n",
        "\n",
        "    global src, trg\n",
        "\n",
        "    for src, src_len, trg in loader:\n",
        "\n",
        "        src = src.to(device)\n",
        "        trg = trg.to(device)\n",
        "\n",
        "        optimizer.zero_grad()\n",
        "\n",
        "        # print(f\"src shape: {src.shape}\")\n",
        "        # print(f\"trg shape: {trg.shape}\")\n",
        "\n",
        "        # print(f\"Max index in source: {src.max().item()}, Source vocab size: {len(vocab_transform['en'])}\")\n",
        "        # print(f\"Max index in target: {trg.max().item()}, Target vocab size: {len(vocab_transform['th'])}\")\n",
        "\n",
        "        #trg[:, :-1] remove the eos, e.g., \"<sos> I love sushi\" since teaching forcing, the input does not need to have eos\n",
        "        output, _ = model(src, trg[:,:-1])\n",
        "\n",
        "        #output = [batch size, trg len - 1, output dim]\n",
        "        #trg    = [batch size, trg len]\n",
        "\n",
        "        output_dim = output.shape[-1]\n",
        "\n",
        "        output = output.reshape(-1, output_dim)\n",
        "        trg = trg[:,1:].reshape(-1) #trg[:, 1:] remove the sos, e.g., \"i love sushi <eos>\" since in teaching forcing, the output does not have sos\n",
        "\n",
        "        #output = [batch size * trg len - 1, output dim]\n",
        "        #trg    = [batch size * trg len - 1]\n",
        "\n",
        "        loss = criterion(output, trg)\n",
        "\n",
        "        loss.backward()\n",
        "\n",
        "        torch.nn.utils.clip_grad_norm_(model.parameters(), clip)\n",
        "\n",
        "        optimizer.step()\n",
        "\n",
        "        epoch_loss += loss.item()\n",
        "\n",
        "    return epoch_loss / loader_length"
      ]
    },
    {
      "cell_type": "markdown",
      "metadata": {
        "id": "xlElWWmpjXrN"
      },
      "source": [
        "Our evaluation loop is similar to our training loop, however as we aren't updating any parameters we don't need to pass an optimizer or a clip value."
      ]
    },
    {
      "cell_type": "code",
      "execution_count": null,
      "metadata": {
        "id": "0_RJTIhCjXrN"
      },
      "outputs": [],
      "source": [
        "def evaluate(model, loader, criterion, loader_length):\n",
        "\n",
        "    model.eval()\n",
        "\n",
        "    epoch_loss = 0\n",
        "\n",
        "    with torch.no_grad():\n",
        "\n",
        "        for src, src_len, trg in loader:\n",
        "\n",
        "            src = src.to(device)\n",
        "            trg = trg.to(device)\n",
        "\n",
        "            output, _ = model(src, trg[:,:-1])\n",
        "\n",
        "            #output = [batch size, trg len - 1, output dim]\n",
        "            #trg = [batch size, trg len]\n",
        "\n",
        "            output_dim = output.shape[-1]\n",
        "\n",
        "            output = output.contiguous().view(-1, output_dim)\n",
        "            trg = trg[:,1:].contiguous().view(-1)\n",
        "\n",
        "            #output = [batch size * trg len - 1, output dim]\n",
        "            #trg = [batch size * trg len - 1]\n",
        "\n",
        "            loss = criterion(output, trg)\n",
        "\n",
        "            epoch_loss += loss.item()\n",
        "\n",
        "    return epoch_loss / loader_length"
      ]
    },
    {
      "cell_type": "markdown",
      "metadata": {
        "id": "S48KGfi6jXrN"
      },
      "source": [
        "### Putting everything together\n",
        "\n",
        "Finally, we train our actual model. This model is almost 3x faster than the convolutional sequence-to-sequence model and also achieves a lower validation perplexity!\n",
        "\n",
        "**Note: similar to CNN, this model always has a teacher forcing ratio of 1, i.e. it will always use the ground truth next token from the target sequence (this is simply because CNN do everything in parallel so we cannot have the next token). This means we cannot compare perplexity values against the previous models when they are using a teacher forcing ratio that is not 1. To understand this, try run previous tutorials with teaching forcing ratio of 1, you will get very low perplexity.  **   "
      ]
    },
    {
      "cell_type": "code",
      "execution_count": null,
      "metadata": {
        "id": "tA3ZEFxLjXrO"
      },
      "outputs": [],
      "source": [
        "train_loader_length = len(list(iter(train_loader)))\n",
        "val_loader_length   = len(list(iter(valid_loader)))\n",
        "test_loader_length  = len(list(iter(test_loader)))"
      ]
    },
    {
      "cell_type": "code",
      "execution_count": null,
      "metadata": {
        "id": "hcoKBxtcjXrO"
      },
      "outputs": [],
      "source": [
        "def epoch_time(start_time, end_time):\n",
        "    elapsed_time = end_time - start_time\n",
        "    elapsed_mins = int(elapsed_time / 60)\n",
        "    elapsed_secs = int(elapsed_time - (elapsed_mins * 60))\n",
        "    return elapsed_mins, elapsed_secs"
      ]
    },
    {
      "cell_type": "code",
      "execution_count": null,
      "metadata": {
        "colab": {
          "base_uri": "https://localhost:8080/"
        },
        "id": "xn36pKV9jXrO",
        "outputId": "f123827c-d2a9-4c7f-a766-2821c5b17a60"
      },
      "outputs": [],
      "source": [
        "best_valid_loss = float('inf')\n",
        "num_epochs = 10\n",
        "clip       = 1\n",
        "\n",
        "save_path = f'./model/MT_enth.pt'\n",
        "\n",
        "train_losses = []\n",
        "valid_losses = []\n",
        "\n",
        "for epoch in range(num_epochs):\n",
        "\n",
        "    start_time = time.time()\n",
        "\n",
        "    train_loss = train(model, train_loader, optimizer, criterion, clip, train_loader_length)\n",
        "    valid_loss = evaluate(model, valid_loader, criterion, val_loader_length)\n",
        "\n",
        "    #for plotting\n",
        "    train_losses.append(train_loss)\n",
        "    valid_losses.append(valid_loss)\n",
        "\n",
        "    end_time = time.time()\n",
        "\n",
        "    epoch_mins, epoch_secs = epoch_time(start_time, end_time)\n",
        "\n",
        "\n",
        "    if valid_loss < best_valid_loss:\n",
        "        best_valid_loss = valid_loss\n",
        "        torch.save(model.state_dict(), save_path)\n",
        "\n",
        "    print(f'Epoch: {epoch+1:02} | Time: {epoch_mins}m {epoch_secs}s')\n",
        "    print(f'\\tTrain Loss: {train_loss:.3f} | Train PPL: {math.exp(train_loss):7.3f}')\n",
        "    print(f'\\t Val. Loss: {valid_loss:.3f} |  Val. PPL: {math.exp(valid_loss):7.3f}')\n",
        "\n",
        "    #lower perplexity is better"
      ]
    },
    {
      "cell_type": "code",
      "execution_count": null,
      "metadata": {
        "colab": {
          "base_uri": "https://localhost:8080/",
          "height": 328
        },
        "id": "OtrTK2-ljXrO",
        "outputId": "7f20913a-1b71-4fc5-b28b-dc1dca8fa73e"
      },
      "outputs": [],
      "source": [
        "import matplotlib.pyplot as plt\n",
        "fig = plt.figure(figsize=(5, 3))\n",
        "ax = fig.add_subplot(1, 1, 1)\n",
        "ax.plot(train_losses, label = 'train loss')\n",
        "ax.plot(valid_losses, label = 'valid loss')\n",
        "plt.legend()\n",
        "ax.set_xlabel('updates')\n",
        "ax.set_ylabel('loss')"
      ]
    },
    {
      "cell_type": "code",
      "execution_count": null,
      "metadata": {
        "colab": {
          "base_uri": "https://localhost:8080/"
        },
        "id": "znixoyWDjXrO",
        "outputId": "30a5584c-b475-4933-efb8-278749ba6bcd"
      },
      "outputs": [],
      "source": [
        "model.load_state_dict(torch.load(save_path))\n",
        "test_loss = evaluate(model, test_loader, criterion, test_loader_length)\n",
        "\n",
        "print(f'| Test Loss: {test_loss:.3f} | Test PPL: {math.exp(test_loss):7.3f} |')"
      ]
    },
    {
      "cell_type": "markdown",
      "metadata": {
        "id": "HdNDBi3gjXrP"
      },
      "source": [
        "## 7. Test on some random news"
      ]
    },
    {
      "cell_type": "code",
      "execution_count": null,
      "metadata": {
        "colab": {
          "base_uri": "https://localhost:8080/",
          "height": 70
        },
        "id": "ZuZf_RlKjXrP",
        "outputId": "69e5c817-7e05-41a8-98b6-6183ee6a35f6"
      },
      "outputs": [],
      "source": [
        "sample['en']"
      ]
    },
    {
      "cell_type": "code",
      "execution_count": null,
      "metadata": {
        "colab": {
          "base_uri": "https://localhost:8080/",
          "height": 70
        },
        "id": "HkLXH1xkjXrP",
        "outputId": "59185d81-ed0e-4295-933d-819d0a750329"
      },
      "outputs": [],
      "source": [
        "sample['th']"
      ]
    },
    {
      "cell_type": "code",
      "execution_count": null,
      "metadata": {
        "colab": {
          "base_uri": "https://localhost:8080/"
        },
        "id": "BlXlr1tCjXrP",
        "outputId": "8336ec93-74de-4f99-9f3e-0c75396b694b"
      },
      "outputs": [],
      "source": [
        "src_text = text_transform['en'](sample['en']).to(device)\n",
        "src_text"
      ]
    },
    {
      "cell_type": "code",
      "execution_count": null,
      "metadata": {
        "colab": {
          "base_uri": "https://localhost:8080/"
        },
        "id": "4G03fltZjXrP",
        "outputId": "216521d5-a926-4406-a3e1-0ae07d306eab"
      },
      "outputs": [],
      "source": [
        "trg_text = text_transform['th'](sample['th']).to(device)\n",
        "trg_text"
      ]
    },
    {
      "cell_type": "code",
      "execution_count": null,
      "metadata": {
        "id": "1gK4gjZ3jXrP"
      },
      "outputs": [],
      "source": [
        "src_text = src_text.reshape(1, -1)  #because batch_size is 1"
      ]
    },
    {
      "cell_type": "code",
      "execution_count": null,
      "metadata": {
        "id": "eZZqpcYIjXrP"
      },
      "outputs": [],
      "source": [
        "trg_text = trg_text.reshape(1, -1)"
      ]
    },
    {
      "cell_type": "code",
      "execution_count": null,
      "metadata": {
        "colab": {
          "base_uri": "https://localhost:8080/"
        },
        "id": "TOz2X1O5jXrP",
        "outputId": "83402096-7b8f-45c4-d695-fda2c1cb18c1"
      },
      "outputs": [],
      "source": [
        "src_text.shape, trg_text.shape"
      ]
    },
    {
      "cell_type": "code",
      "execution_count": null,
      "metadata": {
        "id": "nu9pHtDhjXrP"
      },
      "outputs": [],
      "source": [
        "text_length = torch.tensor([src_text.size(0)]).to(dtype=torch.int64)"
      ]
    },
    {
      "cell_type": "code",
      "execution_count": null,
      "metadata": {
        "id": "Svk07mMQjXrQ"
      },
      "outputs": [],
      "source": [
        "model.load_state_dict(torch.load(save_path))\n",
        "\n",
        "model.eval()\n",
        "with torch.no_grad():\n",
        "    output, attentions = model(src_text, trg_text) #turn off teacher forcing"
      ]
    },
    {
      "cell_type": "code",
      "execution_count": null,
      "metadata": {
        "colab": {
          "base_uri": "https://localhost:8080/"
        },
        "id": "kMMFeo4ZjXrQ",
        "outputId": "49265897-0f13-4212-c3e9-5a7df7292abe"
      },
      "outputs": [],
      "source": [
        "output.shape #batch_size, trg_len, trg_output_dim"
      ]
    },
    {
      "cell_type": "markdown",
      "metadata": {
        "id": "f-ut0_KwjXrQ"
      },
      "source": [
        "Since batch size is 1, we just take off that dimension"
      ]
    },
    {
      "cell_type": "code",
      "execution_count": null,
      "metadata": {
        "id": "bbVjjoiSjXrQ"
      },
      "outputs": [],
      "source": [
        "output = output.squeeze(0)"
      ]
    },
    {
      "cell_type": "code",
      "execution_count": null,
      "metadata": {
        "colab": {
          "base_uri": "https://localhost:8080/"
        },
        "id": "44KZSNKnjXrQ",
        "outputId": "84c4998a-7d79-46ea-fe3c-62e7c016ecbe"
      },
      "outputs": [],
      "source": [
        "output.shape"
      ]
    },
    {
      "cell_type": "markdown",
      "metadata": {
        "id": "DvUTtmRJjXrQ"
      },
      "source": [
        "We shall remove the first token since it's zeroes anyway"
      ]
    },
    {
      "cell_type": "code",
      "execution_count": null,
      "metadata": {
        "colab": {
          "base_uri": "https://localhost:8080/"
        },
        "id": "47WYZXB6jXrQ",
        "outputId": "e0f385fd-301f-44af-bc4f-cb363b0741d6"
      },
      "outputs": [],
      "source": [
        "output = output[1:]\n",
        "output.shape #trg_len, trg_output_dim"
      ]
    },
    {
      "cell_type": "markdown",
      "metadata": {
        "id": "Hk7-K9ZVjXrQ"
      },
      "source": [
        "Then we just take the top token with highest probabilities"
      ]
    },
    {
      "cell_type": "code",
      "execution_count": null,
      "metadata": {
        "id": "Rh_fqXWSjXrR"
      },
      "outputs": [],
      "source": [
        "output_max = output.argmax(1) #returns max indices"
      ]
    },
    {
      "cell_type": "code",
      "execution_count": null,
      "metadata": {
        "colab": {
          "base_uri": "https://localhost:8080/"
        },
        "id": "WxnxnE-rjXrR",
        "outputId": "bdf17584-1062-40da-d5ad-da9ec840df2f"
      },
      "outputs": [],
      "source": [
        "output_max"
      ]
    },
    {
      "cell_type": "markdown",
      "metadata": {
        "id": "cm_diDGqjXrR"
      },
      "source": [
        "Get the mapping of the target language"
      ]
    },
    {
      "cell_type": "code",
      "execution_count": null,
      "metadata": {
        "id": "kfp8K4xRjXrR"
      },
      "outputs": [],
      "source": [
        "mapping = vocab_transform['th'].get_itos()"
      ]
    },
    {
      "cell_type": "code",
      "execution_count": null,
      "metadata": {
        "colab": {
          "base_uri": "https://localhost:8080/"
        },
        "id": "KflH8DmqjXrR",
        "outputId": "f6e035f8-76e9-489b-87ee-3ef7b17b7575"
      },
      "outputs": [],
      "source": [
        "for token in output_max:\n",
        "    print(mapping[token.item()])"
      ]
    },
    {
      "cell_type": "markdown",
      "metadata": {
        "id": "p68FsWLXjXrR"
      },
      "source": [
        "## 8. Attention\n",
        "\n",
        "Let's display the attentions to understand how the source text links with the generated text"
      ]
    },
    {
      "cell_type": "code",
      "execution_count": null,
      "metadata": {
        "colab": {
          "base_uri": "https://localhost:8080/"
        },
        "id": "ogNzVtXsjXrR",
        "outputId": "d3794444-8e95-414f-f2fe-c8e0d16756ab"
      },
      "outputs": [],
      "source": [
        "attentions.shape"
      ]
    },
    {
      "cell_type": "markdown",
      "metadata": {
        "id": "j5zClfiqjXrR"
      },
      "source": [
        "Since there are 8 heads, we can look at just 1 head for sake of simplicity."
      ]
    },
    {
      "cell_type": "code",
      "execution_count": null,
      "metadata": {
        "colab": {
          "base_uri": "https://localhost:8080/"
        },
        "id": "mg-5hDhcjXrR",
        "outputId": "43c58f28-9eda-4220-ec8e-0c59b3a18dd5"
      },
      "outputs": [],
      "source": [
        "attention = attentions[0, 0, :, :]\n",
        "attention.shape"
      ]
    },
    {
      "cell_type": "code",
      "execution_count": null,
      "metadata": {
        "colab": {
          "base_uri": "https://localhost:8080/"
        },
        "id": "uy0xghEVjXrS",
        "outputId": "ad0ed562-0105-45bc-9864-1c738f1635ba"
      },
      "outputs": [],
      "source": [
        "src_tokens = ['<sos>'] + token_transform['en'](sample['en']) + ['<eos>']\n",
        "src_tokens"
      ]
    },
    {
      "cell_type": "code",
      "execution_count": null,
      "metadata": {
        "colab": {
          "base_uri": "https://localhost:8080/"
        },
        "id": "njx_vcKgjXrS",
        "outputId": "b4e3f914-dc5d-4869-e800-415587c292b6"
      },
      "outputs": [],
      "source": [
        "trg_tokens = ['<sos>'] + [mapping[token.item()] for token in output_max]\n",
        "trg_tokens"
      ]
    },
    {
      "cell_type": "code",
      "execution_count": null,
      "metadata": {
        "id": "dvDtY15Ru5IG"
      },
      "outputs": [],
      "source": [
        "# Download Thai font package so the Thai tokens are readable in the attention heatmap below\n",
        "\n",
        "!wget -q http://www.arts.chula.ac.th/ling/wp-content/uploads/TH-Sarabun_Chula1.1.zip -O font.zip\n",
        "!unzip -qj font.zip TH-Sarabun_Chula1.1/THSarabunChula-Regular.ttf\n",
        "\n",
        "import matplotlib as mpl\n",
        "\n",
        "mpl.font_manager.fontManager.addfont('THSarabunChula-Regular.ttf')\n",
        "mpl.rc('font', family='TH Sarabun Chula')"
      ]
    },
    {
      "cell_type": "code",
      "execution_count": null,
      "metadata": {
        "id": "ZuQ9IUBJjXrS"
      },
      "outputs": [],
      "source": [
        "import matplotlib.ticker as ticker\n",
        "import matplotlib.pyplot as plt\n",
        "\n",
        "def display_attention(sentence, translation, attention):\n",
        "\n",
        "    fig = plt.figure(figsize=(10,10))\n",
        "    ax = fig.add_subplot(111)\n",
        "\n",
        "    attention = attention.squeeze(1).cpu().detach().numpy()\n",
        "\n",
        "    cax = ax.matshow(attention, cmap='viridis')\n",
        "\n",
        "    ax.tick_params(labelsize=10)\n",
        "\n",
        "    y_ticks =  [''] + translation\n",
        "    x_ticks =  [''] + sentence\n",
        "\n",
        "    ax.set_xticklabels(x_ticks, rotation=45)\n",
        "    ax.set_yticklabels(y_ticks)\n",
        "\n",
        "    ax.xaxis.set_major_locator(ticker.MultipleLocator(1))\n",
        "    ax.yaxis.set_major_locator(ticker.MultipleLocator(1))\n",
        "\n",
        "    cbar = fig.colorbar(cax)\n",
        "\n",
        "    plt.show()\n",
        "    plt.close()"
      ]
    },
    {
      "cell_type": "code",
      "execution_count": null,
      "metadata": {
        "colab": {
          "base_uri": "https://localhost:8080/",
          "height": 933
        },
        "id": "9OK1MI6WjXrS",
        "outputId": "74dabf3d-c045-4e70-9807-496e5f89c9d1"
      },
      "outputs": [],
      "source": [
        "display_attention(src_tokens, trg_tokens, attention)"
      ]
    },
    {
      "cell_type": "code",
      "execution_count": null,
      "metadata": {
        "id": "3EE_r_gjoxIx"
      },
      "outputs": [],
      "source": []
    }
  ],
  "metadata": {
    "accelerator": "GPU",
    "colab": {
      "gpuType": "T4",
      "provenance": []
    },
    "kernelspec": {
      "display_name": "Python 3",
      "name": "python3"
    },
    "language_info": {
      "codemirror_mode": {
        "name": "ipython",
        "version": 3
      },
      "file_extension": ".py",
      "mimetype": "text/x-python",
      "name": "python",
      "nbconvert_exporter": "python",
      "pygments_lexer": "ipython3",
      "version": "3.11.5"
    },
    "vscode": {
      "interpreter": {
        "hash": "714d3f4db9a58ba7d2f2a9a4fffe577af3df8551aebd380095064812e2e0a6a4"
      }
    },
    "widgets": {
      "application/vnd.jupyter.widget-state+json": {
        "03821c238d394a278151143571ac1115": {
          "model_module": "@jupyter-widgets/base",
          "model_module_version": "1.2.0",
          "model_name": "LayoutModel",
          "state": {
            "_model_module": "@jupyter-widgets/base",
            "_model_module_version": "1.2.0",
            "_model_name": "LayoutModel",
            "_view_count": null,
            "_view_module": "@jupyter-widgets/base",
            "_view_module_version": "1.2.0",
            "_view_name": "LayoutView",
            "align_content": null,
            "align_items": null,
            "align_self": null,
            "border": null,
            "bottom": null,
            "display": null,
            "flex": null,
            "flex_flow": null,
            "grid_area": null,
            "grid_auto_columns": null,
            "grid_auto_flow": null,
            "grid_auto_rows": null,
            "grid_column": null,
            "grid_gap": null,
            "grid_row": null,
            "grid_template_areas": null,
            "grid_template_columns": null,
            "grid_template_rows": null,
            "height": null,
            "justify_content": null,
            "justify_items": null,
            "left": null,
            "margin": null,
            "max_height": null,
            "max_width": null,
            "min_height": null,
            "min_width": null,
            "object_fit": null,
            "object_position": null,
            "order": null,
            "overflow": null,
            "overflow_x": null,
            "overflow_y": null,
            "padding": null,
            "right": null,
            "top": null,
            "visibility": null,
            "width": null
          }
        },
        "06d6df1f9ef7484a8c06ed1bcf40d374": {
          "model_module": "@jupyter-widgets/controls",
          "model_module_version": "1.5.0",
          "model_name": "DescriptionStyleModel",
          "state": {
            "_model_module": "@jupyter-widgets/controls",
            "_model_module_version": "1.5.0",
            "_model_name": "DescriptionStyleModel",
            "_view_count": null,
            "_view_module": "@jupyter-widgets/base",
            "_view_module_version": "1.2.0",
            "_view_name": "StyleView",
            "description_width": ""
          }
        },
        "0701d124e77843cea37286efefa84f16": {
          "model_module": "@jupyter-widgets/controls",
          "model_module_version": "1.5.0",
          "model_name": "FloatProgressModel",
          "state": {
            "_dom_classes": [],
            "_model_module": "@jupyter-widgets/controls",
            "_model_module_version": "1.5.0",
            "_model_name": "FloatProgressModel",
            "_view_count": null,
            "_view_module": "@jupyter-widgets/controls",
            "_view_module_version": "1.5.0",
            "_view_name": "ProgressView",
            "bar_style": "success",
            "description": "",
            "description_tooltip": null,
            "layout": "IPY_MODEL_8ad3c5091fcd4656ac63005a6b686e34",
            "max": 26590196,
            "min": 0,
            "orientation": "horizontal",
            "style": "IPY_MODEL_7399bf6af65b45e5832b054923de2f2a",
            "value": 26590196
          }
        },
        "091e765329b04877bf3cd5265ca95886": {
          "model_module": "@jupyter-widgets/controls",
          "model_module_version": "1.5.0",
          "model_name": "FloatProgressModel",
          "state": {
            "_dom_classes": [],
            "_model_module": "@jupyter-widgets/controls",
            "_model_module_version": "1.5.0",
            "_model_name": "FloatProgressModel",
            "_view_count": null,
            "_view_module": "@jupyter-widgets/controls",
            "_view_module_version": "1.5.0",
            "_view_name": "ProgressView",
            "bar_style": "success",
            "description": "",
            "description_tooltip": null,
            "layout": "IPY_MODEL_3b9d525c2714415db6d373c705a4409c",
            "max": 100177,
            "min": 0,
            "orientation": "horizontal",
            "style": "IPY_MODEL_60cf2ce67a444d709546b1ac213a6da0",
            "value": 100177
          }
        },
        "0b5abeb464614a1eba53b4b5fc142340": {
          "model_module": "@jupyter-widgets/controls",
          "model_module_version": "1.5.0",
          "model_name": "HTMLModel",
          "state": {
            "_dom_classes": [],
            "_model_module": "@jupyter-widgets/controls",
            "_model_module_version": "1.5.0",
            "_model_name": "HTMLModel",
            "_view_count": null,
            "_view_module": "@jupyter-widgets/controls",
            "_view_module_version": "1.5.0",
            "_view_name": "HTMLView",
            "description": "",
            "description_tooltip": null,
            "layout": "IPY_MODEL_5a4d981793ae426b8c00f7eede0806e8",
            "placeholder": "​",
            "style": "IPY_MODEL_c06b0b9f3f114b5f8582f88dc3139627",
            "value": "Generating test split: 100%"
          }
        },
        "0f15d01299ca43feaa108ebd35c676cc": {
          "model_module": "@jupyter-widgets/controls",
          "model_module_version": "1.5.0",
          "model_name": "HTMLModel",
          "state": {
            "_dom_classes": [],
            "_model_module": "@jupyter-widgets/controls",
            "_model_module_version": "1.5.0",
            "_model_name": "HTMLModel",
            "_view_count": null,
            "_view_module": "@jupyter-widgets/controls",
            "_view_module_version": "1.5.0",
            "_view_name": "HTMLView",
            "description": "",
            "description_tooltip": null,
            "layout": "IPY_MODEL_f6319744c747403eb292b52a1ff043ba",
            "placeholder": "​",
            "style": "IPY_MODEL_1978ea5725f142cc8fb5b33c71e7e92d",
            "value": "Generating validation split: 100%"
          }
        },
        "15bf02f17fd14e35a90349c1c86b6bf0": {
          "model_module": "@jupyter-widgets/controls",
          "model_module_version": "1.5.0",
          "model_name": "HTMLModel",
          "state": {
            "_dom_classes": [],
            "_model_module": "@jupyter-widgets/controls",
            "_model_module_version": "1.5.0",
            "_model_name": "HTMLModel",
            "_view_count": null,
            "_view_module": "@jupyter-widgets/controls",
            "_view_module_version": "1.5.0",
            "_view_name": "HTMLView",
            "description": "",
            "description_tooltip": null,
            "layout": "IPY_MODEL_cb28d09cbee645c7b0176a406159e783",
            "placeholder": "​",
            "style": "IPY_MODEL_d4ccc86679e7466b82fbad2cb5f0d9ea",
            "value": " 26.5M/26.5M [00:00&lt;00:00, 41.3MB/s]"
          }
        },
        "1747eb9897a542cb9b13f53ee19aa599": {
          "model_module": "@jupyter-widgets/controls",
          "model_module_version": "1.5.0",
          "model_name": "HTMLModel",
          "state": {
            "_dom_classes": [],
            "_model_module": "@jupyter-widgets/controls",
            "_model_module_version": "1.5.0",
            "_model_name": "HTMLModel",
            "_view_count": null,
            "_view_module": "@jupyter-widgets/controls",
            "_view_module_version": "1.5.0",
            "_view_name": "HTMLView",
            "description": "",
            "description_tooltip": null,
            "layout": "IPY_MODEL_8e32543cd6d24b4d8ddd977cf3c4e857",
            "placeholder": "​",
            "style": "IPY_MODEL_7f03706acb1747d39e3b524bf3d58f72",
            "value": "Downloading data: 100%"
          }
        },
        "1963dc11c5474396b08c577e8868e524": {
          "model_module": "@jupyter-widgets/base",
          "model_module_version": "1.2.0",
          "model_name": "LayoutModel",
          "state": {
            "_model_module": "@jupyter-widgets/base",
            "_model_module_version": "1.2.0",
            "_model_name": "LayoutModel",
            "_view_count": null,
            "_view_module": "@jupyter-widgets/base",
            "_view_module_version": "1.2.0",
            "_view_name": "LayoutView",
            "align_content": null,
            "align_items": null,
            "align_self": null,
            "border": null,
            "bottom": null,
            "display": null,
            "flex": null,
            "flex_flow": null,
            "grid_area": null,
            "grid_auto_columns": null,
            "grid_auto_flow": null,
            "grid_auto_rows": null,
            "grid_column": null,
            "grid_gap": null,
            "grid_row": null,
            "grid_template_areas": null,
            "grid_template_columns": null,
            "grid_template_rows": null,
            "height": null,
            "justify_content": null,
            "justify_items": null,
            "left": null,
            "margin": null,
            "max_height": null,
            "max_width": null,
            "min_height": null,
            "min_width": null,
            "object_fit": null,
            "object_position": null,
            "order": null,
            "overflow": null,
            "overflow_x": null,
            "overflow_y": null,
            "padding": null,
            "right": null,
            "top": null,
            "visibility": null,
            "width": null
          }
        },
        "1978ea5725f142cc8fb5b33c71e7e92d": {
          "model_module": "@jupyter-widgets/controls",
          "model_module_version": "1.5.0",
          "model_name": "DescriptionStyleModel",
          "state": {
            "_model_module": "@jupyter-widgets/controls",
            "_model_module_version": "1.5.0",
            "_model_name": "DescriptionStyleModel",
            "_view_count": null,
            "_view_module": "@jupyter-widgets/base",
            "_view_module_version": "1.2.0",
            "_view_name": "StyleView",
            "description_width": ""
          }
        },
        "22028f632c9e43aea90c09a32c8e838f": {
          "model_module": "@jupyter-widgets/controls",
          "model_module_version": "1.5.0",
          "model_name": "DescriptionStyleModel",
          "state": {
            "_model_module": "@jupyter-widgets/controls",
            "_model_module_version": "1.5.0",
            "_model_name": "DescriptionStyleModel",
            "_view_count": null,
            "_view_module": "@jupyter-widgets/base",
            "_view_module_version": "1.2.0",
            "_view_name": "StyleView",
            "description_width": ""
          }
        },
        "27351d27c5464952aa4bc50ff6c6b236": {
          "model_module": "@jupyter-widgets/controls",
          "model_module_version": "1.5.0",
          "model_name": "FloatProgressModel",
          "state": {
            "_dom_classes": [],
            "_model_module": "@jupyter-widgets/controls",
            "_model_module_version": "1.5.0",
            "_model_name": "FloatProgressModel",
            "_view_count": null,
            "_view_module": "@jupyter-widgets/controls",
            "_view_module_version": "1.5.0",
            "_view_name": "ProgressView",
            "bar_style": "success",
            "description": "",
            "description_tooltip": null,
            "layout": "IPY_MODEL_4966b5dd172745928b431484a90039f0",
            "max": 151890283,
            "min": 0,
            "orientation": "horizontal",
            "style": "IPY_MODEL_9e7551e95e714afea3756c82bced1ec5",
            "value": 151890283
          }
        },
        "33d3538cb5d647f3ba98bc42efa623a0": {
          "model_module": "@jupyter-widgets/controls",
          "model_module_version": "1.5.0",
          "model_name": "FloatProgressModel",
          "state": {
            "_dom_classes": [],
            "_model_module": "@jupyter-widgets/controls",
            "_model_module_version": "1.5.0",
            "_model_name": "FloatProgressModel",
            "_view_count": null,
            "_view_module": "@jupyter-widgets/controls",
            "_view_module_version": "1.5.0",
            "_view_name": "ProgressView",
            "bar_style": "success",
            "description": "",
            "description_tooltip": null,
            "layout": "IPY_MODEL_61577684fce04ebe90d4f232eac1f52b",
            "max": 100173,
            "min": 0,
            "orientation": "horizontal",
            "style": "IPY_MODEL_89e98b24318943048039a3d19118520a",
            "value": 100173
          }
        },
        "3b9d525c2714415db6d373c705a4409c": {
          "model_module": "@jupyter-widgets/base",
          "model_module_version": "1.2.0",
          "model_name": "LayoutModel",
          "state": {
            "_model_module": "@jupyter-widgets/base",
            "_model_module_version": "1.2.0",
            "_model_name": "LayoutModel",
            "_view_count": null,
            "_view_module": "@jupyter-widgets/base",
            "_view_module_version": "1.2.0",
            "_view_name": "LayoutView",
            "align_content": null,
            "align_items": null,
            "align_self": null,
            "border": null,
            "bottom": null,
            "display": null,
            "flex": null,
            "flex_flow": null,
            "grid_area": null,
            "grid_auto_columns": null,
            "grid_auto_flow": null,
            "grid_auto_rows": null,
            "grid_column": null,
            "grid_gap": null,
            "grid_row": null,
            "grid_template_areas": null,
            "grid_template_columns": null,
            "grid_template_rows": null,
            "height": null,
            "justify_content": null,
            "justify_items": null,
            "left": null,
            "margin": null,
            "max_height": null,
            "max_width": null,
            "min_height": null,
            "min_width": null,
            "object_fit": null,
            "object_position": null,
            "order": null,
            "overflow": null,
            "overflow_x": null,
            "overflow_y": null,
            "padding": null,
            "right": null,
            "top": null,
            "visibility": null,
            "width": null
          }
        },
        "3ea76442a76544f3b65a2e998cedf0b0": {
          "model_module": "@jupyter-widgets/controls",
          "model_module_version": "1.5.0",
          "model_name": "FloatProgressModel",
          "state": {
            "_dom_classes": [],
            "_model_module": "@jupyter-widgets/controls",
            "_model_module_version": "1.5.0",
            "_model_name": "FloatProgressModel",
            "_view_count": null,
            "_view_module": "@jupyter-widgets/controls",
            "_view_module_version": "1.5.0",
            "_view_name": "ProgressView",
            "bar_style": "success",
            "description": "",
            "description_tooltip": null,
            "layout": "IPY_MODEL_6fbd27e5e31747678d768540d442f6c2",
            "max": 801402,
            "min": 0,
            "orientation": "horizontal",
            "style": "IPY_MODEL_b9e9c3c3fb014e2fa1e8cadda2a59a86",
            "value": 801402
          }
        },
        "3f3c679aebd64b199471bc2b4a120e59": {
          "model_module": "@jupyter-widgets/controls",
          "model_module_version": "1.5.0",
          "model_name": "DescriptionStyleModel",
          "state": {
            "_model_module": "@jupyter-widgets/controls",
            "_model_module_version": "1.5.0",
            "_model_name": "DescriptionStyleModel",
            "_view_count": null,
            "_view_module": "@jupyter-widgets/base",
            "_view_module_version": "1.2.0",
            "_view_name": "StyleView",
            "description_width": ""
          }
        },
        "4528e4f2f5014383a2a75d61e3c21881": {
          "model_module": "@jupyter-widgets/controls",
          "model_module_version": "1.5.0",
          "model_name": "DescriptionStyleModel",
          "state": {
            "_model_module": "@jupyter-widgets/controls",
            "_model_module_version": "1.5.0",
            "_model_name": "DescriptionStyleModel",
            "_view_count": null,
            "_view_module": "@jupyter-widgets/base",
            "_view_module_version": "1.2.0",
            "_view_name": "StyleView",
            "description_width": ""
          }
        },
        "48c3426c51954815bc126efe73f22803": {
          "model_module": "@jupyter-widgets/base",
          "model_module_version": "1.2.0",
          "model_name": "LayoutModel",
          "state": {
            "_model_module": "@jupyter-widgets/base",
            "_model_module_version": "1.2.0",
            "_model_name": "LayoutModel",
            "_view_count": null,
            "_view_module": "@jupyter-widgets/base",
            "_view_module_version": "1.2.0",
            "_view_name": "LayoutView",
            "align_content": null,
            "align_items": null,
            "align_self": null,
            "border": null,
            "bottom": null,
            "display": null,
            "flex": null,
            "flex_flow": null,
            "grid_area": null,
            "grid_auto_columns": null,
            "grid_auto_flow": null,
            "grid_auto_rows": null,
            "grid_column": null,
            "grid_gap": null,
            "grid_row": null,
            "grid_template_areas": null,
            "grid_template_columns": null,
            "grid_template_rows": null,
            "height": null,
            "justify_content": null,
            "justify_items": null,
            "left": null,
            "margin": null,
            "max_height": null,
            "max_width": null,
            "min_height": null,
            "min_width": null,
            "object_fit": null,
            "object_position": null,
            "order": null,
            "overflow": null,
            "overflow_x": null,
            "overflow_y": null,
            "padding": null,
            "right": null,
            "top": null,
            "visibility": null,
            "width": null
          }
        },
        "4966b5dd172745928b431484a90039f0": {
          "model_module": "@jupyter-widgets/base",
          "model_module_version": "1.2.0",
          "model_name": "LayoutModel",
          "state": {
            "_model_module": "@jupyter-widgets/base",
            "_model_module_version": "1.2.0",
            "_model_name": "LayoutModel",
            "_view_count": null,
            "_view_module": "@jupyter-widgets/base",
            "_view_module_version": "1.2.0",
            "_view_name": "LayoutView",
            "align_content": null,
            "align_items": null,
            "align_self": null,
            "border": null,
            "bottom": null,
            "display": null,
            "flex": null,
            "flex_flow": null,
            "grid_area": null,
            "grid_auto_columns": null,
            "grid_auto_flow": null,
            "grid_auto_rows": null,
            "grid_column": null,
            "grid_gap": null,
            "grid_row": null,
            "grid_template_areas": null,
            "grid_template_columns": null,
            "grid_template_rows": null,
            "height": null,
            "justify_content": null,
            "justify_items": null,
            "left": null,
            "margin": null,
            "max_height": null,
            "max_width": null,
            "min_height": null,
            "min_width": null,
            "object_fit": null,
            "object_position": null,
            "order": null,
            "overflow": null,
            "overflow_x": null,
            "overflow_y": null,
            "padding": null,
            "right": null,
            "top": null,
            "visibility": null,
            "width": null
          }
        },
        "49b43713b1614cdea62dc2aa71f28c8a": {
          "model_module": "@jupyter-widgets/base",
          "model_module_version": "1.2.0",
          "model_name": "LayoutModel",
          "state": {
            "_model_module": "@jupyter-widgets/base",
            "_model_module_version": "1.2.0",
            "_model_name": "LayoutModel",
            "_view_count": null,
            "_view_module": "@jupyter-widgets/base",
            "_view_module_version": "1.2.0",
            "_view_name": "LayoutView",
            "align_content": null,
            "align_items": null,
            "align_self": null,
            "border": null,
            "bottom": null,
            "display": null,
            "flex": null,
            "flex_flow": null,
            "grid_area": null,
            "grid_auto_columns": null,
            "grid_auto_flow": null,
            "grid_auto_rows": null,
            "grid_column": null,
            "grid_gap": null,
            "grid_row": null,
            "grid_template_areas": null,
            "grid_template_columns": null,
            "grid_template_rows": null,
            "height": null,
            "justify_content": null,
            "justify_items": null,
            "left": null,
            "margin": null,
            "max_height": null,
            "max_width": null,
            "min_height": null,
            "min_width": null,
            "object_fit": null,
            "object_position": null,
            "order": null,
            "overflow": null,
            "overflow_x": null,
            "overflow_y": null,
            "padding": null,
            "right": null,
            "top": null,
            "visibility": null,
            "width": null
          }
        },
        "4e604879c4494578a06e49d0f12a068f": {
          "model_module": "@jupyter-widgets/controls",
          "model_module_version": "1.5.0",
          "model_name": "DescriptionStyleModel",
          "state": {
            "_model_module": "@jupyter-widgets/controls",
            "_model_module_version": "1.5.0",
            "_model_name": "DescriptionStyleModel",
            "_view_count": null,
            "_view_module": "@jupyter-widgets/base",
            "_view_module_version": "1.2.0",
            "_view_name": "StyleView",
            "description_width": ""
          }
        },
        "504d75489a2a43c081f89de850c43a95": {
          "model_module": "@jupyter-widgets/controls",
          "model_module_version": "1.5.0",
          "model_name": "DescriptionStyleModel",
          "state": {
            "_model_module": "@jupyter-widgets/controls",
            "_model_module_version": "1.5.0",
            "_model_name": "DescriptionStyleModel",
            "_view_count": null,
            "_view_module": "@jupyter-widgets/base",
            "_view_module_version": "1.2.0",
            "_view_name": "StyleView",
            "description_width": ""
          }
        },
        "537a2b1bf3ac4f3cbf3c5e5bbd9fc625": {
          "model_module": "@jupyter-widgets/controls",
          "model_module_version": "1.5.0",
          "model_name": "ProgressStyleModel",
          "state": {
            "_model_module": "@jupyter-widgets/controls",
            "_model_module_version": "1.5.0",
            "_model_name": "ProgressStyleModel",
            "_view_count": null,
            "_view_module": "@jupyter-widgets/base",
            "_view_module_version": "1.2.0",
            "_view_name": "StyleView",
            "bar_color": null,
            "description_width": ""
          }
        },
        "586ac323486c495d80e66757b8bac42a": {
          "model_module": "@jupyter-widgets/controls",
          "model_module_version": "1.5.0",
          "model_name": "HBoxModel",
          "state": {
            "_dom_classes": [],
            "_model_module": "@jupyter-widgets/controls",
            "_model_module_version": "1.5.0",
            "_model_name": "HBoxModel",
            "_view_count": null,
            "_view_module": "@jupyter-widgets/controls",
            "_view_module_version": "1.5.0",
            "_view_name": "HBoxView",
            "box_style": "",
            "children": [
              "IPY_MODEL_da1223c71f87408eb10ede75090fad9a",
              "IPY_MODEL_3ea76442a76544f3b65a2e998cedf0b0",
              "IPY_MODEL_f7fa22a8d98c4220b68bafd5f6c7ec55"
            ],
            "layout": "IPY_MODEL_b497c890f7f447248e6ac516f14f107c"
          }
        },
        "587ba1bc38db4228b92c4cb0839416f9": {
          "model_module": "@jupyter-widgets/base",
          "model_module_version": "1.2.0",
          "model_name": "LayoutModel",
          "state": {
            "_model_module": "@jupyter-widgets/base",
            "_model_module_version": "1.2.0",
            "_model_name": "LayoutModel",
            "_view_count": null,
            "_view_module": "@jupyter-widgets/base",
            "_view_module_version": "1.2.0",
            "_view_name": "LayoutView",
            "align_content": null,
            "align_items": null,
            "align_self": null,
            "border": null,
            "bottom": null,
            "display": null,
            "flex": null,
            "flex_flow": null,
            "grid_area": null,
            "grid_auto_columns": null,
            "grid_auto_flow": null,
            "grid_auto_rows": null,
            "grid_column": null,
            "grid_gap": null,
            "grid_row": null,
            "grid_template_areas": null,
            "grid_template_columns": null,
            "grid_template_rows": null,
            "height": null,
            "justify_content": null,
            "justify_items": null,
            "left": null,
            "margin": null,
            "max_height": null,
            "max_width": null,
            "min_height": null,
            "min_width": null,
            "object_fit": null,
            "object_position": null,
            "order": null,
            "overflow": null,
            "overflow_x": null,
            "overflow_y": null,
            "padding": null,
            "right": null,
            "top": null,
            "visibility": null,
            "width": null
          }
        },
        "5a4d981793ae426b8c00f7eede0806e8": {
          "model_module": "@jupyter-widgets/base",
          "model_module_version": "1.2.0",
          "model_name": "LayoutModel",
          "state": {
            "_model_module": "@jupyter-widgets/base",
            "_model_module_version": "1.2.0",
            "_model_name": "LayoutModel",
            "_view_count": null,
            "_view_module": "@jupyter-widgets/base",
            "_view_module_version": "1.2.0",
            "_view_name": "LayoutView",
            "align_content": null,
            "align_items": null,
            "align_self": null,
            "border": null,
            "bottom": null,
            "display": null,
            "flex": null,
            "flex_flow": null,
            "grid_area": null,
            "grid_auto_columns": null,
            "grid_auto_flow": null,
            "grid_auto_rows": null,
            "grid_column": null,
            "grid_gap": null,
            "grid_row": null,
            "grid_template_areas": null,
            "grid_template_columns": null,
            "grid_template_rows": null,
            "height": null,
            "justify_content": null,
            "justify_items": null,
            "left": null,
            "margin": null,
            "max_height": null,
            "max_width": null,
            "min_height": null,
            "min_width": null,
            "object_fit": null,
            "object_position": null,
            "order": null,
            "overflow": null,
            "overflow_x": null,
            "overflow_y": null,
            "padding": null,
            "right": null,
            "top": null,
            "visibility": null,
            "width": null
          }
        },
        "5f1bc5e74d904c8c87f7d21204a610f5": {
          "model_module": "@jupyter-widgets/base",
          "model_module_version": "1.2.0",
          "model_name": "LayoutModel",
          "state": {
            "_model_module": "@jupyter-widgets/base",
            "_model_module_version": "1.2.0",
            "_model_name": "LayoutModel",
            "_view_count": null,
            "_view_module": "@jupyter-widgets/base",
            "_view_module_version": "1.2.0",
            "_view_name": "LayoutView",
            "align_content": null,
            "align_items": null,
            "align_self": null,
            "border": null,
            "bottom": null,
            "display": null,
            "flex": null,
            "flex_flow": null,
            "grid_area": null,
            "grid_auto_columns": null,
            "grid_auto_flow": null,
            "grid_auto_rows": null,
            "grid_column": null,
            "grid_gap": null,
            "grid_row": null,
            "grid_template_areas": null,
            "grid_template_columns": null,
            "grid_template_rows": null,
            "height": null,
            "justify_content": null,
            "justify_items": null,
            "left": null,
            "margin": null,
            "max_height": null,
            "max_width": null,
            "min_height": null,
            "min_width": null,
            "object_fit": null,
            "object_position": null,
            "order": null,
            "overflow": null,
            "overflow_x": null,
            "overflow_y": null,
            "padding": null,
            "right": null,
            "top": null,
            "visibility": null,
            "width": null
          }
        },
        "60cf2ce67a444d709546b1ac213a6da0": {
          "model_module": "@jupyter-widgets/controls",
          "model_module_version": "1.5.0",
          "model_name": "ProgressStyleModel",
          "state": {
            "_model_module": "@jupyter-widgets/controls",
            "_model_module_version": "1.5.0",
            "_model_name": "ProgressStyleModel",
            "_view_count": null,
            "_view_module": "@jupyter-widgets/base",
            "_view_module_version": "1.2.0",
            "_view_name": "StyleView",
            "bar_color": null,
            "description_width": ""
          }
        },
        "61577684fce04ebe90d4f232eac1f52b": {
          "model_module": "@jupyter-widgets/base",
          "model_module_version": "1.2.0",
          "model_name": "LayoutModel",
          "state": {
            "_model_module": "@jupyter-widgets/base",
            "_model_module_version": "1.2.0",
            "_model_name": "LayoutModel",
            "_view_count": null,
            "_view_module": "@jupyter-widgets/base",
            "_view_module_version": "1.2.0",
            "_view_name": "LayoutView",
            "align_content": null,
            "align_items": null,
            "align_self": null,
            "border": null,
            "bottom": null,
            "display": null,
            "flex": null,
            "flex_flow": null,
            "grid_area": null,
            "grid_auto_columns": null,
            "grid_auto_flow": null,
            "grid_auto_rows": null,
            "grid_column": null,
            "grid_gap": null,
            "grid_row": null,
            "grid_template_areas": null,
            "grid_template_columns": null,
            "grid_template_rows": null,
            "height": null,
            "justify_content": null,
            "justify_items": null,
            "left": null,
            "margin": null,
            "max_height": null,
            "max_width": null,
            "min_height": null,
            "min_width": null,
            "object_fit": null,
            "object_position": null,
            "order": null,
            "overflow": null,
            "overflow_x": null,
            "overflow_y": null,
            "padding": null,
            "right": null,
            "top": null,
            "visibility": null,
            "width": null
          }
        },
        "61596f17c52343a5b9c0e73f7b570905": {
          "model_module": "@jupyter-widgets/base",
          "model_module_version": "1.2.0",
          "model_name": "LayoutModel",
          "state": {
            "_model_module": "@jupyter-widgets/base",
            "_model_module_version": "1.2.0",
            "_model_name": "LayoutModel",
            "_view_count": null,
            "_view_module": "@jupyter-widgets/base",
            "_view_module_version": "1.2.0",
            "_view_name": "LayoutView",
            "align_content": null,
            "align_items": null,
            "align_self": null,
            "border": null,
            "bottom": null,
            "display": null,
            "flex": null,
            "flex_flow": null,
            "grid_area": null,
            "grid_auto_columns": null,
            "grid_auto_flow": null,
            "grid_auto_rows": null,
            "grid_column": null,
            "grid_gap": null,
            "grid_row": null,
            "grid_template_areas": null,
            "grid_template_columns": null,
            "grid_template_rows": null,
            "height": null,
            "justify_content": null,
            "justify_items": null,
            "left": null,
            "margin": null,
            "max_height": null,
            "max_width": null,
            "min_height": null,
            "min_width": null,
            "object_fit": null,
            "object_position": null,
            "order": null,
            "overflow": null,
            "overflow_x": null,
            "overflow_y": null,
            "padding": null,
            "right": null,
            "top": null,
            "visibility": null,
            "width": null
          }
        },
        "683118f139424d1f88b57a9461024c18": {
          "model_module": "@jupyter-widgets/controls",
          "model_module_version": "1.5.0",
          "model_name": "FloatProgressModel",
          "state": {
            "_dom_classes": [],
            "_model_module": "@jupyter-widgets/controls",
            "_model_module_version": "1.5.0",
            "_model_name": "FloatProgressModel",
            "_view_count": null,
            "_view_module": "@jupyter-widgets/controls",
            "_view_module_version": "1.5.0",
            "_view_name": "ProgressView",
            "bar_style": "success",
            "description": "",
            "description_tooltip": null,
            "layout": "IPY_MODEL_61596f17c52343a5b9c0e73f7b570905",
            "max": 26508245,
            "min": 0,
            "orientation": "horizontal",
            "style": "IPY_MODEL_537a2b1bf3ac4f3cbf3c5e5bbd9fc625",
            "value": 26508245
          }
        },
        "6fbd27e5e31747678d768540d442f6c2": {
          "model_module": "@jupyter-widgets/base",
          "model_module_version": "1.2.0",
          "model_name": "LayoutModel",
          "state": {
            "_model_module": "@jupyter-widgets/base",
            "_model_module_version": "1.2.0",
            "_model_name": "LayoutModel",
            "_view_count": null,
            "_view_module": "@jupyter-widgets/base",
            "_view_module_version": "1.2.0",
            "_view_name": "LayoutView",
            "align_content": null,
            "align_items": null,
            "align_self": null,
            "border": null,
            "bottom": null,
            "display": null,
            "flex": null,
            "flex_flow": null,
            "grid_area": null,
            "grid_auto_columns": null,
            "grid_auto_flow": null,
            "grid_auto_rows": null,
            "grid_column": null,
            "grid_gap": null,
            "grid_row": null,
            "grid_template_areas": null,
            "grid_template_columns": null,
            "grid_template_rows": null,
            "height": null,
            "justify_content": null,
            "justify_items": null,
            "left": null,
            "margin": null,
            "max_height": null,
            "max_width": null,
            "min_height": null,
            "min_width": null,
            "object_fit": null,
            "object_position": null,
            "order": null,
            "overflow": null,
            "overflow_x": null,
            "overflow_y": null,
            "padding": null,
            "right": null,
            "top": null,
            "visibility": null,
            "width": null
          }
        },
        "727a87dd3ddd4e9c8816f7de95918395": {
          "model_module": "@jupyter-widgets/base",
          "model_module_version": "1.2.0",
          "model_name": "LayoutModel",
          "state": {
            "_model_module": "@jupyter-widgets/base",
            "_model_module_version": "1.2.0",
            "_model_name": "LayoutModel",
            "_view_count": null,
            "_view_module": "@jupyter-widgets/base",
            "_view_module_version": "1.2.0",
            "_view_name": "LayoutView",
            "align_content": null,
            "align_items": null,
            "align_self": null,
            "border": null,
            "bottom": null,
            "display": null,
            "flex": null,
            "flex_flow": null,
            "grid_area": null,
            "grid_auto_columns": null,
            "grid_auto_flow": null,
            "grid_auto_rows": null,
            "grid_column": null,
            "grid_gap": null,
            "grid_row": null,
            "grid_template_areas": null,
            "grid_template_columns": null,
            "grid_template_rows": null,
            "height": null,
            "justify_content": null,
            "justify_items": null,
            "left": null,
            "margin": null,
            "max_height": null,
            "max_width": null,
            "min_height": null,
            "min_width": null,
            "object_fit": null,
            "object_position": null,
            "order": null,
            "overflow": null,
            "overflow_x": null,
            "overflow_y": null,
            "padding": null,
            "right": null,
            "top": null,
            "visibility": null,
            "width": null
          }
        },
        "7399bf6af65b45e5832b054923de2f2a": {
          "model_module": "@jupyter-widgets/controls",
          "model_module_version": "1.5.0",
          "model_name": "ProgressStyleModel",
          "state": {
            "_model_module": "@jupyter-widgets/controls",
            "_model_module_version": "1.5.0",
            "_model_name": "ProgressStyleModel",
            "_view_count": null,
            "_view_module": "@jupyter-widgets/base",
            "_view_module_version": "1.2.0",
            "_view_name": "StyleView",
            "bar_color": null,
            "description_width": ""
          }
        },
        "7457ee6cd23343a0acb8fb0c5cb8a088": {
          "model_module": "@jupyter-widgets/base",
          "model_module_version": "1.2.0",
          "model_name": "LayoutModel",
          "state": {
            "_model_module": "@jupyter-widgets/base",
            "_model_module_version": "1.2.0",
            "_model_name": "LayoutModel",
            "_view_count": null,
            "_view_module": "@jupyter-widgets/base",
            "_view_module_version": "1.2.0",
            "_view_name": "LayoutView",
            "align_content": null,
            "align_items": null,
            "align_self": null,
            "border": null,
            "bottom": null,
            "display": null,
            "flex": null,
            "flex_flow": null,
            "grid_area": null,
            "grid_auto_columns": null,
            "grid_auto_flow": null,
            "grid_auto_rows": null,
            "grid_column": null,
            "grid_gap": null,
            "grid_row": null,
            "grid_template_areas": null,
            "grid_template_columns": null,
            "grid_template_rows": null,
            "height": null,
            "justify_content": null,
            "justify_items": null,
            "left": null,
            "margin": null,
            "max_height": null,
            "max_width": null,
            "min_height": null,
            "min_width": null,
            "object_fit": null,
            "object_position": null,
            "order": null,
            "overflow": null,
            "overflow_x": null,
            "overflow_y": null,
            "padding": null,
            "right": null,
            "top": null,
            "visibility": null,
            "width": null
          }
        },
        "75563b912819495a9884a3e9c8b64b0c": {
          "model_module": "@jupyter-widgets/controls",
          "model_module_version": "1.5.0",
          "model_name": "HBoxModel",
          "state": {
            "_dom_classes": [],
            "_model_module": "@jupyter-widgets/controls",
            "_model_module_version": "1.5.0",
            "_model_name": "HBoxModel",
            "_view_count": null,
            "_view_module": "@jupyter-widgets/controls",
            "_view_module_version": "1.5.0",
            "_view_name": "HBoxView",
            "box_style": "",
            "children": [
              "IPY_MODEL_bac1986472cd458181caff307098fe9c",
              "IPY_MODEL_0701d124e77843cea37286efefa84f16",
              "IPY_MODEL_f75460a5c97d468db9dd4afb96320e87"
            ],
            "layout": "IPY_MODEL_f9a9eba044af4334bcf8a37fb4ff96eb"
          }
        },
        "76d3028fa5c94dbc98f3a39fd7390fbc": {
          "model_module": "@jupyter-widgets/controls",
          "model_module_version": "1.5.0",
          "model_name": "DescriptionStyleModel",
          "state": {
            "_model_module": "@jupyter-widgets/controls",
            "_model_module_version": "1.5.0",
            "_model_name": "DescriptionStyleModel",
            "_view_count": null,
            "_view_module": "@jupyter-widgets/base",
            "_view_module_version": "1.2.0",
            "_view_name": "StyleView",
            "description_width": ""
          }
        },
        "79015bfdc12c44d38fca2b30b49ae0ec": {
          "model_module": "@jupyter-widgets/base",
          "model_module_version": "1.2.0",
          "model_name": "LayoutModel",
          "state": {
            "_model_module": "@jupyter-widgets/base",
            "_model_module_version": "1.2.0",
            "_model_name": "LayoutModel",
            "_view_count": null,
            "_view_module": "@jupyter-widgets/base",
            "_view_module_version": "1.2.0",
            "_view_name": "LayoutView",
            "align_content": null,
            "align_items": null,
            "align_self": null,
            "border": null,
            "bottom": null,
            "display": null,
            "flex": null,
            "flex_flow": null,
            "grid_area": null,
            "grid_auto_columns": null,
            "grid_auto_flow": null,
            "grid_auto_rows": null,
            "grid_column": null,
            "grid_gap": null,
            "grid_row": null,
            "grid_template_areas": null,
            "grid_template_columns": null,
            "grid_template_rows": null,
            "height": null,
            "justify_content": null,
            "justify_items": null,
            "left": null,
            "margin": null,
            "max_height": null,
            "max_width": null,
            "min_height": null,
            "min_width": null,
            "object_fit": null,
            "object_position": null,
            "order": null,
            "overflow": null,
            "overflow_x": null,
            "overflow_y": null,
            "padding": null,
            "right": null,
            "top": null,
            "visibility": null,
            "width": null
          }
        },
        "7f03706acb1747d39e3b524bf3d58f72": {
          "model_module": "@jupyter-widgets/controls",
          "model_module_version": "1.5.0",
          "model_name": "DescriptionStyleModel",
          "state": {
            "_model_module": "@jupyter-widgets/controls",
            "_model_module_version": "1.5.0",
            "_model_name": "DescriptionStyleModel",
            "_view_count": null,
            "_view_module": "@jupyter-widgets/base",
            "_view_module_version": "1.2.0",
            "_view_name": "StyleView",
            "description_width": ""
          }
        },
        "80dca9ccae674a01828ac0de2afe897f": {
          "model_module": "@jupyter-widgets/base",
          "model_module_version": "1.2.0",
          "model_name": "LayoutModel",
          "state": {
            "_model_module": "@jupyter-widgets/base",
            "_model_module_version": "1.2.0",
            "_model_name": "LayoutModel",
            "_view_count": null,
            "_view_module": "@jupyter-widgets/base",
            "_view_module_version": "1.2.0",
            "_view_name": "LayoutView",
            "align_content": null,
            "align_items": null,
            "align_self": null,
            "border": null,
            "bottom": null,
            "display": null,
            "flex": null,
            "flex_flow": null,
            "grid_area": null,
            "grid_auto_columns": null,
            "grid_auto_flow": null,
            "grid_auto_rows": null,
            "grid_column": null,
            "grid_gap": null,
            "grid_row": null,
            "grid_template_areas": null,
            "grid_template_columns": null,
            "grid_template_rows": null,
            "height": null,
            "justify_content": null,
            "justify_items": null,
            "left": null,
            "margin": null,
            "max_height": null,
            "max_width": null,
            "min_height": null,
            "min_width": null,
            "object_fit": null,
            "object_position": null,
            "order": null,
            "overflow": null,
            "overflow_x": null,
            "overflow_y": null,
            "padding": null,
            "right": null,
            "top": null,
            "visibility": null,
            "width": null
          }
        },
        "824b53b78f5e4c688a09d13fee401b4e": {
          "model_module": "@jupyter-widgets/controls",
          "model_module_version": "1.5.0",
          "model_name": "HTMLModel",
          "state": {
            "_dom_classes": [],
            "_model_module": "@jupyter-widgets/controls",
            "_model_module_version": "1.5.0",
            "_model_name": "HTMLModel",
            "_view_count": null,
            "_view_module": "@jupyter-widgets/controls",
            "_view_module_version": "1.5.0",
            "_view_name": "HTMLView",
            "description": "",
            "description_tooltip": null,
            "layout": "IPY_MODEL_49b43713b1614cdea62dc2aa71f28c8a",
            "placeholder": "​",
            "style": "IPY_MODEL_4528e4f2f5014383a2a75d61e3c21881",
            "value": " 100173/100173 [00:00&lt;00:00, 161026.18 examples/s]"
          }
        },
        "83f00d34e11f42979b403b14142375a5": {
          "model_module": "@jupyter-widgets/controls",
          "model_module_version": "1.5.0",
          "model_name": "HBoxModel",
          "state": {
            "_dom_classes": [],
            "_model_module": "@jupyter-widgets/controls",
            "_model_module_version": "1.5.0",
            "_model_name": "HBoxModel",
            "_view_count": null,
            "_view_module": "@jupyter-widgets/controls",
            "_view_module_version": "1.5.0",
            "_view_name": "HBoxView",
            "box_style": "",
            "children": [
              "IPY_MODEL_0b5abeb464614a1eba53b4b5fc142340",
              "IPY_MODEL_091e765329b04877bf3cd5265ca95886",
              "IPY_MODEL_8e9948d5fc7e40ce9497e270cc448d78"
            ],
            "layout": "IPY_MODEL_03821c238d394a278151143571ac1115"
          }
        },
        "89e98b24318943048039a3d19118520a": {
          "model_module": "@jupyter-widgets/controls",
          "model_module_version": "1.5.0",
          "model_name": "ProgressStyleModel",
          "state": {
            "_model_module": "@jupyter-widgets/controls",
            "_model_module_version": "1.5.0",
            "_model_name": "ProgressStyleModel",
            "_view_count": null,
            "_view_module": "@jupyter-widgets/base",
            "_view_module_version": "1.2.0",
            "_view_name": "StyleView",
            "bar_color": null,
            "description_width": ""
          }
        },
        "8ad3c5091fcd4656ac63005a6b686e34": {
          "model_module": "@jupyter-widgets/base",
          "model_module_version": "1.2.0",
          "model_name": "LayoutModel",
          "state": {
            "_model_module": "@jupyter-widgets/base",
            "_model_module_version": "1.2.0",
            "_model_name": "LayoutModel",
            "_view_count": null,
            "_view_module": "@jupyter-widgets/base",
            "_view_module_version": "1.2.0",
            "_view_name": "LayoutView",
            "align_content": null,
            "align_items": null,
            "align_self": null,
            "border": null,
            "bottom": null,
            "display": null,
            "flex": null,
            "flex_flow": null,
            "grid_area": null,
            "grid_auto_columns": null,
            "grid_auto_flow": null,
            "grid_auto_rows": null,
            "grid_column": null,
            "grid_gap": null,
            "grid_row": null,
            "grid_template_areas": null,
            "grid_template_columns": null,
            "grid_template_rows": null,
            "height": null,
            "justify_content": null,
            "justify_items": null,
            "left": null,
            "margin": null,
            "max_height": null,
            "max_width": null,
            "min_height": null,
            "min_width": null,
            "object_fit": null,
            "object_position": null,
            "order": null,
            "overflow": null,
            "overflow_x": null,
            "overflow_y": null,
            "padding": null,
            "right": null,
            "top": null,
            "visibility": null,
            "width": null
          }
        },
        "8bb63d69e05e4e959d7f0b2a7d70ea38": {
          "model_module": "@jupyter-widgets/base",
          "model_module_version": "1.2.0",
          "model_name": "LayoutModel",
          "state": {
            "_model_module": "@jupyter-widgets/base",
            "_model_module_version": "1.2.0",
            "_model_name": "LayoutModel",
            "_view_count": null,
            "_view_module": "@jupyter-widgets/base",
            "_view_module_version": "1.2.0",
            "_view_name": "LayoutView",
            "align_content": null,
            "align_items": null,
            "align_self": null,
            "border": null,
            "bottom": null,
            "display": null,
            "flex": null,
            "flex_flow": null,
            "grid_area": null,
            "grid_auto_columns": null,
            "grid_auto_flow": null,
            "grid_auto_rows": null,
            "grid_column": null,
            "grid_gap": null,
            "grid_row": null,
            "grid_template_areas": null,
            "grid_template_columns": null,
            "grid_template_rows": null,
            "height": null,
            "justify_content": null,
            "justify_items": null,
            "left": null,
            "margin": null,
            "max_height": null,
            "max_width": null,
            "min_height": null,
            "min_width": null,
            "object_fit": null,
            "object_position": null,
            "order": null,
            "overflow": null,
            "overflow_x": null,
            "overflow_y": null,
            "padding": null,
            "right": null,
            "top": null,
            "visibility": null,
            "width": null
          }
        },
        "8e32543cd6d24b4d8ddd977cf3c4e857": {
          "model_module": "@jupyter-widgets/base",
          "model_module_version": "1.2.0",
          "model_name": "LayoutModel",
          "state": {
            "_model_module": "@jupyter-widgets/base",
            "_model_module_version": "1.2.0",
            "_model_name": "LayoutModel",
            "_view_count": null,
            "_view_module": "@jupyter-widgets/base",
            "_view_module_version": "1.2.0",
            "_view_name": "LayoutView",
            "align_content": null,
            "align_items": null,
            "align_self": null,
            "border": null,
            "bottom": null,
            "display": null,
            "flex": null,
            "flex_flow": null,
            "grid_area": null,
            "grid_auto_columns": null,
            "grid_auto_flow": null,
            "grid_auto_rows": null,
            "grid_column": null,
            "grid_gap": null,
            "grid_row": null,
            "grid_template_areas": null,
            "grid_template_columns": null,
            "grid_template_rows": null,
            "height": null,
            "justify_content": null,
            "justify_items": null,
            "left": null,
            "margin": null,
            "max_height": null,
            "max_width": null,
            "min_height": null,
            "min_width": null,
            "object_fit": null,
            "object_position": null,
            "order": null,
            "overflow": null,
            "overflow_x": null,
            "overflow_y": null,
            "padding": null,
            "right": null,
            "top": null,
            "visibility": null,
            "width": null
          }
        },
        "8e9948d5fc7e40ce9497e270cc448d78": {
          "model_module": "@jupyter-widgets/controls",
          "model_module_version": "1.5.0",
          "model_name": "HTMLModel",
          "state": {
            "_dom_classes": [],
            "_model_module": "@jupyter-widgets/controls",
            "_model_module_version": "1.5.0",
            "_model_name": "HTMLModel",
            "_view_count": null,
            "_view_module": "@jupyter-widgets/controls",
            "_view_module_version": "1.5.0",
            "_view_name": "HTMLView",
            "description": "",
            "description_tooltip": null,
            "layout": "IPY_MODEL_1963dc11c5474396b08c577e8868e524",
            "placeholder": "​",
            "style": "IPY_MODEL_3f3c679aebd64b199471bc2b4a120e59",
            "value": " 100177/100177 [00:00&lt;00:00, 237799.95 examples/s]"
          }
        },
        "9e7551e95e714afea3756c82bced1ec5": {
          "model_module": "@jupyter-widgets/controls",
          "model_module_version": "1.5.0",
          "model_name": "ProgressStyleModel",
          "state": {
            "_model_module": "@jupyter-widgets/controls",
            "_model_module_version": "1.5.0",
            "_model_name": "ProgressStyleModel",
            "_view_count": null,
            "_view_module": "@jupyter-widgets/base",
            "_view_module_version": "1.2.0",
            "_view_name": "StyleView",
            "bar_color": null,
            "description_width": ""
          }
        },
        "a04961ea6f804c699a9e993d9597a341": {
          "model_module": "@jupyter-widgets/base",
          "model_module_version": "1.2.0",
          "model_name": "LayoutModel",
          "state": {
            "_model_module": "@jupyter-widgets/base",
            "_model_module_version": "1.2.0",
            "_model_name": "LayoutModel",
            "_view_count": null,
            "_view_module": "@jupyter-widgets/base",
            "_view_module_version": "1.2.0",
            "_view_name": "LayoutView",
            "align_content": null,
            "align_items": null,
            "align_self": null,
            "border": null,
            "bottom": null,
            "display": null,
            "flex": null,
            "flex_flow": null,
            "grid_area": null,
            "grid_auto_columns": null,
            "grid_auto_flow": null,
            "grid_auto_rows": null,
            "grid_column": null,
            "grid_gap": null,
            "grid_row": null,
            "grid_template_areas": null,
            "grid_template_columns": null,
            "grid_template_rows": null,
            "height": null,
            "justify_content": null,
            "justify_items": null,
            "left": null,
            "margin": null,
            "max_height": null,
            "max_width": null,
            "min_height": null,
            "min_width": null,
            "object_fit": null,
            "object_position": null,
            "order": null,
            "overflow": null,
            "overflow_x": null,
            "overflow_y": null,
            "padding": null,
            "right": null,
            "top": null,
            "visibility": null,
            "width": null
          }
        },
        "b497c890f7f447248e6ac516f14f107c": {
          "model_module": "@jupyter-widgets/base",
          "model_module_version": "1.2.0",
          "model_name": "LayoutModel",
          "state": {
            "_model_module": "@jupyter-widgets/base",
            "_model_module_version": "1.2.0",
            "_model_name": "LayoutModel",
            "_view_count": null,
            "_view_module": "@jupyter-widgets/base",
            "_view_module_version": "1.2.0",
            "_view_name": "LayoutView",
            "align_content": null,
            "align_items": null,
            "align_self": null,
            "border": null,
            "bottom": null,
            "display": null,
            "flex": null,
            "flex_flow": null,
            "grid_area": null,
            "grid_auto_columns": null,
            "grid_auto_flow": null,
            "grid_auto_rows": null,
            "grid_column": null,
            "grid_gap": null,
            "grid_row": null,
            "grid_template_areas": null,
            "grid_template_columns": null,
            "grid_template_rows": null,
            "height": null,
            "justify_content": null,
            "justify_items": null,
            "left": null,
            "margin": null,
            "max_height": null,
            "max_width": null,
            "min_height": null,
            "min_width": null,
            "object_fit": null,
            "object_position": null,
            "order": null,
            "overflow": null,
            "overflow_x": null,
            "overflow_y": null,
            "padding": null,
            "right": null,
            "top": null,
            "visibility": null,
            "width": null
          }
        },
        "b9e9c3c3fb014e2fa1e8cadda2a59a86": {
          "model_module": "@jupyter-widgets/controls",
          "model_module_version": "1.5.0",
          "model_name": "ProgressStyleModel",
          "state": {
            "_model_module": "@jupyter-widgets/controls",
            "_model_module_version": "1.5.0",
            "_model_name": "ProgressStyleModel",
            "_view_count": null,
            "_view_module": "@jupyter-widgets/base",
            "_view_module_version": "1.2.0",
            "_view_name": "StyleView",
            "bar_color": null,
            "description_width": ""
          }
        },
        "bac1986472cd458181caff307098fe9c": {
          "model_module": "@jupyter-widgets/controls",
          "model_module_version": "1.5.0",
          "model_name": "HTMLModel",
          "state": {
            "_dom_classes": [],
            "_model_module": "@jupyter-widgets/controls",
            "_model_module_version": "1.5.0",
            "_model_name": "HTMLModel",
            "_view_count": null,
            "_view_module": "@jupyter-widgets/controls",
            "_view_module_version": "1.5.0",
            "_view_name": "HTMLView",
            "description": "",
            "description_tooltip": null,
            "layout": "IPY_MODEL_79015bfdc12c44d38fca2b30b49ae0ec",
            "placeholder": "​",
            "style": "IPY_MODEL_4e604879c4494578a06e49d0f12a068f",
            "value": "Downloading data: 100%"
          }
        },
        "be05027b1bdd4688a6b3826949fc7d79": {
          "model_module": "@jupyter-widgets/controls",
          "model_module_version": "1.5.0",
          "model_name": "HTMLModel",
          "state": {
            "_dom_classes": [],
            "_model_module": "@jupyter-widgets/controls",
            "_model_module_version": "1.5.0",
            "_model_name": "HTMLModel",
            "_view_count": null,
            "_view_module": "@jupyter-widgets/controls",
            "_view_module_version": "1.5.0",
            "_view_name": "HTMLView",
            "description": "",
            "description_tooltip": null,
            "layout": "IPY_MODEL_80dca9ccae674a01828ac0de2afe897f",
            "placeholder": "​",
            "style": "IPY_MODEL_f41806e6509241e7936dc57abcfec6a8",
            "value": "Downloading data: 100%"
          }
        },
        "c06b0b9f3f114b5f8582f88dc3139627": {
          "model_module": "@jupyter-widgets/controls",
          "model_module_version": "1.5.0",
          "model_name": "DescriptionStyleModel",
          "state": {
            "_model_module": "@jupyter-widgets/controls",
            "_model_module_version": "1.5.0",
            "_model_name": "DescriptionStyleModel",
            "_view_count": null,
            "_view_module": "@jupyter-widgets/base",
            "_view_module_version": "1.2.0",
            "_view_name": "StyleView",
            "description_width": ""
          }
        },
        "cb28d09cbee645c7b0176a406159e783": {
          "model_module": "@jupyter-widgets/base",
          "model_module_version": "1.2.0",
          "model_name": "LayoutModel",
          "state": {
            "_model_module": "@jupyter-widgets/base",
            "_model_module_version": "1.2.0",
            "_model_name": "LayoutModel",
            "_view_count": null,
            "_view_module": "@jupyter-widgets/base",
            "_view_module_version": "1.2.0",
            "_view_name": "LayoutView",
            "align_content": null,
            "align_items": null,
            "align_self": null,
            "border": null,
            "bottom": null,
            "display": null,
            "flex": null,
            "flex_flow": null,
            "grid_area": null,
            "grid_auto_columns": null,
            "grid_auto_flow": null,
            "grid_auto_rows": null,
            "grid_column": null,
            "grid_gap": null,
            "grid_row": null,
            "grid_template_areas": null,
            "grid_template_columns": null,
            "grid_template_rows": null,
            "height": null,
            "justify_content": null,
            "justify_items": null,
            "left": null,
            "margin": null,
            "max_height": null,
            "max_width": null,
            "min_height": null,
            "min_width": null,
            "object_fit": null,
            "object_position": null,
            "order": null,
            "overflow": null,
            "overflow_x": null,
            "overflow_y": null,
            "padding": null,
            "right": null,
            "top": null,
            "visibility": null,
            "width": null
          }
        },
        "d4ccc86679e7466b82fbad2cb5f0d9ea": {
          "model_module": "@jupyter-widgets/controls",
          "model_module_version": "1.5.0",
          "model_name": "DescriptionStyleModel",
          "state": {
            "_model_module": "@jupyter-widgets/controls",
            "_model_module_version": "1.5.0",
            "_model_name": "DescriptionStyleModel",
            "_view_count": null,
            "_view_module": "@jupyter-widgets/base",
            "_view_module_version": "1.2.0",
            "_view_name": "StyleView",
            "description_width": ""
          }
        },
        "d6e295ac46d3408dac2d9a65626005ac": {
          "model_module": "@jupyter-widgets/controls",
          "model_module_version": "1.5.0",
          "model_name": "HBoxModel",
          "state": {
            "_dom_classes": [],
            "_model_module": "@jupyter-widgets/controls",
            "_model_module_version": "1.5.0",
            "_model_name": "HBoxModel",
            "_view_count": null,
            "_view_module": "@jupyter-widgets/controls",
            "_view_module_version": "1.5.0",
            "_view_name": "HBoxView",
            "box_style": "",
            "children": [
              "IPY_MODEL_1747eb9897a542cb9b13f53ee19aa599",
              "IPY_MODEL_27351d27c5464952aa4bc50ff6c6b236",
              "IPY_MODEL_f57c9fe6d045484990be179a5f90dec9"
            ],
            "layout": "IPY_MODEL_5f1bc5e74d904c8c87f7d21204a610f5"
          }
        },
        "da1223c71f87408eb10ede75090fad9a": {
          "model_module": "@jupyter-widgets/controls",
          "model_module_version": "1.5.0",
          "model_name": "HTMLModel",
          "state": {
            "_dom_classes": [],
            "_model_module": "@jupyter-widgets/controls",
            "_model_module_version": "1.5.0",
            "_model_name": "HTMLModel",
            "_view_count": null,
            "_view_module": "@jupyter-widgets/controls",
            "_view_module_version": "1.5.0",
            "_view_name": "HTMLView",
            "description": "",
            "description_tooltip": null,
            "layout": "IPY_MODEL_7457ee6cd23343a0acb8fb0c5cb8a088",
            "placeholder": "​",
            "style": "IPY_MODEL_504d75489a2a43c081f89de850c43a95",
            "value": "Generating train split: 100%"
          }
        },
        "e938aa007e7b4d7c9ae124f5c64531e2": {
          "model_module": "@jupyter-widgets/controls",
          "model_module_version": "1.5.0",
          "model_name": "HBoxModel",
          "state": {
            "_dom_classes": [],
            "_model_module": "@jupyter-widgets/controls",
            "_model_module_version": "1.5.0",
            "_model_name": "HBoxModel",
            "_view_count": null,
            "_view_module": "@jupyter-widgets/controls",
            "_view_module_version": "1.5.0",
            "_view_name": "HBoxView",
            "box_style": "",
            "children": [
              "IPY_MODEL_0f15d01299ca43feaa108ebd35c676cc",
              "IPY_MODEL_33d3538cb5d647f3ba98bc42efa623a0",
              "IPY_MODEL_824b53b78f5e4c688a09d13fee401b4e"
            ],
            "layout": "IPY_MODEL_587ba1bc38db4228b92c4cb0839416f9"
          }
        },
        "f41806e6509241e7936dc57abcfec6a8": {
          "model_module": "@jupyter-widgets/controls",
          "model_module_version": "1.5.0",
          "model_name": "DescriptionStyleModel",
          "state": {
            "_model_module": "@jupyter-widgets/controls",
            "_model_module_version": "1.5.0",
            "_model_name": "DescriptionStyleModel",
            "_view_count": null,
            "_view_module": "@jupyter-widgets/base",
            "_view_module_version": "1.2.0",
            "_view_name": "StyleView",
            "description_width": ""
          }
        },
        "f57c9fe6d045484990be179a5f90dec9": {
          "model_module": "@jupyter-widgets/controls",
          "model_module_version": "1.5.0",
          "model_name": "HTMLModel",
          "state": {
            "_dom_classes": [],
            "_model_module": "@jupyter-widgets/controls",
            "_model_module_version": "1.5.0",
            "_model_name": "HTMLModel",
            "_view_count": null,
            "_view_module": "@jupyter-widgets/controls",
            "_view_module_version": "1.5.0",
            "_view_name": "HTMLView",
            "description": "",
            "description_tooltip": null,
            "layout": "IPY_MODEL_48c3426c51954815bc126efe73f22803",
            "placeholder": "​",
            "style": "IPY_MODEL_22028f632c9e43aea90c09a32c8e838f",
            "value": " 152M/152M [00:03&lt;00:00, 46.9MB/s]"
          }
        },
        "f6319744c747403eb292b52a1ff043ba": {
          "model_module": "@jupyter-widgets/base",
          "model_module_version": "1.2.0",
          "model_name": "LayoutModel",
          "state": {
            "_model_module": "@jupyter-widgets/base",
            "_model_module_version": "1.2.0",
            "_model_name": "LayoutModel",
            "_view_count": null,
            "_view_module": "@jupyter-widgets/base",
            "_view_module_version": "1.2.0",
            "_view_name": "LayoutView",
            "align_content": null,
            "align_items": null,
            "align_self": null,
            "border": null,
            "bottom": null,
            "display": null,
            "flex": null,
            "flex_flow": null,
            "grid_area": null,
            "grid_auto_columns": null,
            "grid_auto_flow": null,
            "grid_auto_rows": null,
            "grid_column": null,
            "grid_gap": null,
            "grid_row": null,
            "grid_template_areas": null,
            "grid_template_columns": null,
            "grid_template_rows": null,
            "height": null,
            "justify_content": null,
            "justify_items": null,
            "left": null,
            "margin": null,
            "max_height": null,
            "max_width": null,
            "min_height": null,
            "min_width": null,
            "object_fit": null,
            "object_position": null,
            "order": null,
            "overflow": null,
            "overflow_x": null,
            "overflow_y": null,
            "padding": null,
            "right": null,
            "top": null,
            "visibility": null,
            "width": null
          }
        },
        "f75460a5c97d468db9dd4afb96320e87": {
          "model_module": "@jupyter-widgets/controls",
          "model_module_version": "1.5.0",
          "model_name": "HTMLModel",
          "state": {
            "_dom_classes": [],
            "_model_module": "@jupyter-widgets/controls",
            "_model_module_version": "1.5.0",
            "_model_name": "HTMLModel",
            "_view_count": null,
            "_view_module": "@jupyter-widgets/controls",
            "_view_module_version": "1.5.0",
            "_view_name": "HTMLView",
            "description": "",
            "description_tooltip": null,
            "layout": "IPY_MODEL_a04961ea6f804c699a9e993d9597a341",
            "placeholder": "​",
            "style": "IPY_MODEL_76d3028fa5c94dbc98f3a39fd7390fbc",
            "value": " 26.6M/26.6M [00:00&lt;00:00, 36.1MB/s]"
          }
        },
        "f7fa22a8d98c4220b68bafd5f6c7ec55": {
          "model_module": "@jupyter-widgets/controls",
          "model_module_version": "1.5.0",
          "model_name": "HTMLModel",
          "state": {
            "_dom_classes": [],
            "_model_module": "@jupyter-widgets/controls",
            "_model_module_version": "1.5.0",
            "_model_name": "HTMLModel",
            "_view_count": null,
            "_view_module": "@jupyter-widgets/controls",
            "_view_module_version": "1.5.0",
            "_view_name": "HTMLView",
            "description": "",
            "description_tooltip": null,
            "layout": "IPY_MODEL_8bb63d69e05e4e959d7f0b2a7d70ea38",
            "placeholder": "​",
            "style": "IPY_MODEL_06d6df1f9ef7484a8c06ed1bcf40d374",
            "value": " 801402/801402 [00:03&lt;00:00, 177425.70 examples/s]"
          }
        },
        "f9a9eba044af4334bcf8a37fb4ff96eb": {
          "model_module": "@jupyter-widgets/base",
          "model_module_version": "1.2.0",
          "model_name": "LayoutModel",
          "state": {
            "_model_module": "@jupyter-widgets/base",
            "_model_module_version": "1.2.0",
            "_model_name": "LayoutModel",
            "_view_count": null,
            "_view_module": "@jupyter-widgets/base",
            "_view_module_version": "1.2.0",
            "_view_name": "LayoutView",
            "align_content": null,
            "align_items": null,
            "align_self": null,
            "border": null,
            "bottom": null,
            "display": null,
            "flex": null,
            "flex_flow": null,
            "grid_area": null,
            "grid_auto_columns": null,
            "grid_auto_flow": null,
            "grid_auto_rows": null,
            "grid_column": null,
            "grid_gap": null,
            "grid_row": null,
            "grid_template_areas": null,
            "grid_template_columns": null,
            "grid_template_rows": null,
            "height": null,
            "justify_content": null,
            "justify_items": null,
            "left": null,
            "margin": null,
            "max_height": null,
            "max_width": null,
            "min_height": null,
            "min_width": null,
            "object_fit": null,
            "object_position": null,
            "order": null,
            "overflow": null,
            "overflow_x": null,
            "overflow_y": null,
            "padding": null,
            "right": null,
            "top": null,
            "visibility": null,
            "width": null
          }
        },
        "fa688a80d3e74d4298ad73c21d8c246e": {
          "model_module": "@jupyter-widgets/controls",
          "model_module_version": "1.5.0",
          "model_name": "HBoxModel",
          "state": {
            "_dom_classes": [],
            "_model_module": "@jupyter-widgets/controls",
            "_model_module_version": "1.5.0",
            "_model_name": "HBoxModel",
            "_view_count": null,
            "_view_module": "@jupyter-widgets/controls",
            "_view_module_version": "1.5.0",
            "_view_name": "HBoxView",
            "box_style": "",
            "children": [
              "IPY_MODEL_be05027b1bdd4688a6b3826949fc7d79",
              "IPY_MODEL_683118f139424d1f88b57a9461024c18",
              "IPY_MODEL_15bf02f17fd14e35a90349c1c86b6bf0"
            ],
            "layout": "IPY_MODEL_727a87dd3ddd4e9c8816f7de95918395"
          }
        }
      }
    }
  },
  "nbformat": 4,
  "nbformat_minor": 0
}
